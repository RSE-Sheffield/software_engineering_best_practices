{
 "cells": [
  {
   "cell_type": "code",
   "execution_count": 1,
   "metadata": {
    "scrolled": true,
    "tags": [
     "nbval-ignore-output"
    ]
   },
   "outputs": [
    {
     "name": "stdout",
     "output_type": "stream",
     "text": [
      "Overwriting morse.py\n"
     ]
    }
   ],
   "source": [
    "%%writefile morse.py\n",
    "\n",
    "# A lookup dictionary which, given a letter will return the morse code equivalent\n",
    "_letter_to_morse = {'a':'.-', 'b':'-...', 'c':'-.-.', 'd':'-..', 'e':'.', 'f':'..-.', \n",
    "                   'g':'--.', 'h':'....', 'i':'..', 'j':'.---', 'k':'-.-', 'l':'.-..', 'm':'--', \n",
    "                   'n':'-.', 'o':'---', 'p':'.--.', 'q':'--.-', 'r':'.-.', 's':'...', 't':'-',\n",
    "                   'u':'..-', 'v':'...-', 'w':'.--', 'x':'-..-', 'y':'-.--', 'z':'--..',\n",
    "                   '0':'-----', '1':'.----', '2':'..---', '3':'...--', '4':'....-',\n",
    "                   '5':'.....', '6':'-....', '7':'--...', '8':'---..', '9':'----.',\n",
    "                   ' ':'/'}\n",
    "\n",
    "# This will create a dictionary that can go from the morse back to the letter\n",
    "_morse_to_letter = {}\n",
    "for letter in _letter_to_morse:\n",
    "    morse = _letter_to_morse[letter]\n",
    "    _morse_to_letter[morse] = letter\n",
    "\n",
    "\n",
    "def encode(message):\n",
    "    \"\"\"\n",
    "    Encode a message from English to Morse Code\n",
    "    \n",
    "    Args:\n",
    "        message (str): the English message to encode\n",
    "    \n",
    "    Returns:\n",
    "        str: The encoded message\n",
    "    \n",
    "    Examples:\n",
    "        >>> encode(\"Help us\")\n",
    "        '.... . .-.. .--. / ..- ...'\n",
    "    \"\"\"\n",
    "    morse = []\n",
    "\n",
    "    for letter in message:\n",
    "        letter = letter.lower()\n",
    "        morse.append(_letter_to_morse[letter])\n",
    "\n",
    "    # We need to join together Morse code letters with spaces\n",
    "    morse_message = \" \".join(morse)\n",
    "    \n",
    "    return morse_message\n",
    "\n",
    "\n",
    "def decode(message):\n",
    "    \"\"\"\n",
    "    Decode a message from Morse Code to English\n",
    "    \n",
    "    Args:\n",
    "        message (str): the Morse Code message to decode\n",
    "    \n",
    "    Returns:\n",
    "        str: The decoded English message\n",
    "    \n",
    "    Examples:\n",
    "        >>> decode(\".... . .-.. .--. / ..- ...\")\n",
    "        'help us'\n",
    "    \"\"\"\n",
    "    english = []\n",
    "\n",
    "    # Now we cannot read by letter. We know that morse letters are\n",
    "    # separated by a space, so we split the morse string by spaces\n",
    "    morse_letters = message.split(\" \")\n",
    "\n",
    "    for letter in morse_letters:\n",
    "        english.append(_morse_to_letter[letter])\n",
    "\n",
    "    # Rejoin, but now we don't need to add any spaces\n",
    "    english_message = \"\".join(english)\n",
    "    \n",
    "    return english_message"
   ]
  },
  {
   "cell_type": "code",
   "execution_count": 2,
   "metadata": {
    "tags": [
     "nbval-ignore-output"
    ]
   },
   "outputs": [
    {
     "name": "stdout",
     "output_type": "stream",
     "text": [
      "Overwriting test_morse.py\n"
     ]
    }
   ],
   "source": [
    "%%writefile test_morse.py\n",
    "\n",
    "import pytest\n",
    "\n",
    "from morse import encode, decode\n",
    "\n",
    "@pytest.mark.parametrize(\"message, output\", [\n",
    "    (\"SOS\", \"... --- ...\"),\n",
    "    (\"help\", \".... . .-.. .--.\"),\n",
    "    (\"\", \"\"),\n",
    "    (\" \", \"/\"),\n",
    "])\n",
    "def test_encode(message, output):\n",
    "    assert encode(message) == output\n",
    "\n",
    "@pytest.mark.parametrize(\"message, output\", [\n",
    "    (\"... --- ...\", \"sos\"),\n",
    "    (\".... . .-.. .--.\", \"help\"),\n",
    "    (\"/\", \" \"),\n",
    "])\n",
    "def test_decode(message, output):\n",
    "    assert decode(message) == output"
   ]
  },
  {
   "cell_type": "code",
   "execution_count": 3,
   "metadata": {
    "tags": [
     "nbval-ignore-output"
    ]
   },
   "outputs": [
    {
     "name": "stdout",
     "output_type": "stream",
     "text": [
      "\u001b[1m=================== test session starts ====================\u001b[0m\n",
      "platform linux -- Python 3.7.3, pytest-5.2.1, py-1.8.0, pluggy-0.13.0 -- /home/matt/courses/software_engineering_best_practices/venv/bin/python3\n",
      "cachedir: .pytest_cache\n",
      "rootdir: /home/matt/courses/software_engineering_best_practices\n",
      "plugins: nbval-0.9.3\n",
      "collected 9 items                                          \u001b[0m\n",
      "\n",
      "morse.py::morse.decode \u001b[32mPASSED\u001b[0m\u001b[36m                        [ 11%]\u001b[0m\n",
      "morse.py::morse.encode \u001b[32mPASSED\u001b[0m\u001b[36m                        [ 22%]\u001b[0m\n",
      "test_morse.py::test_encode[SOS-... --- ...] \u001b[32mPASSED\u001b[0m\u001b[36m   [ 33%]\u001b[0m\n",
      "test_morse.py::test_encode[help-.... . .-.. .--.] \u001b[32mPASSED\u001b[0m\u001b[36m [ 44%]\u001b[0m\n",
      "test_morse.py::test_encode[-] \u001b[32mPASSED\u001b[0m\u001b[36m                 [ 55%]\u001b[0m\n",
      "test_morse.py::test_encode[ -/] \u001b[32mPASSED\u001b[0m\u001b[36m               [ 66%]\u001b[0m\n",
      "test_morse.py::test_decode[... --- ...-sos] \u001b[32mPASSED\u001b[0m\u001b[36m   [ 77%]\u001b[0m\n",
      "test_morse.py::test_decode[.... . .-.. .--.-help] \u001b[32mPASSED\u001b[0m\u001b[36m [ 88%]\u001b[0m\n",
      "test_morse.py::test_decode[/- ] \u001b[32mPASSED\u001b[0m\u001b[36m               [100%]\u001b[0m\n",
      "\n",
      "\u001b[33m===================== warnings summary =====================\u001b[0m\n",
      "venv/lib64/python3.7/site-packages/jinja2/utils.py:485\n",
      "  /home/matt/courses/software_engineering_best_practices/venv/lib64/python3.7/site-packages/jinja2/utils.py:485: DeprecationWarning: Using or importing the ABCs from 'collections' instead of from 'collections.abc' is deprecated, and in 3.8 it will stop working\n",
      "    from collections import MutableMapping\n",
      "\n",
      "-- Docs: https://docs.pytest.org/en/latest/warnings.html\n",
      "\u001b[33m\u001b[1m============== 9 passed, 1 warnings in 0.48s ===============\u001b[0m\n"
     ]
    }
   ],
   "source": [
    "!COLUMNS=60 venv/bin/pytest -v --doctest-modules"
   ]
  }
 ],
 "metadata": {
  "kernelspec": {
   "display_name": "Python 3",
   "language": "python",
   "name": "python3"
  },
  "language_info": {
   "codemirror_mode": {
    "name": "ipython",
    "version": 3
   },
   "file_extension": ".py",
   "mimetype": "text/x-python",
   "name": "python",
   "nbconvert_exporter": "python",
   "pygments_lexer": "ipython3",
   "version": "3.8.2"
  }
 },
 "nbformat": 4,
 "nbformat_minor": 4
}
