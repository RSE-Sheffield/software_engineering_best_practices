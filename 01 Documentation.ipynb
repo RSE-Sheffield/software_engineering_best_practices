{
 "cells": [
  {
   "cell_type": "markdown",
   "metadata": {},
   "source": [
    "# Documentation"
   ]
  },
  {
   "cell_type": "markdown",
   "metadata": {},
   "source": [
    "Make sure you have an environment where you can write code and run commands.\n",
    "\n",
    "Make sure Sphinx is installed. Test in the Terminal that `sphinx-build` exists and returns the error:\n",
    "\n",
    "```\n",
    "usage: sphinx-build [OPTIONS] SOURCEDIR OUTPUTDIR [FILENAMES...]\n",
    "sphinx-build: error: the following arguments are required: sourcedir, outputdir, filenames\n",
    "```\n",
    "\n",
    "If not installed then install it into the base environment or create a new one and install `jupyterlab` and `sphinx`. Restart JupyterLab in that environment."
   ]
  },
  {
   "cell_type": "markdown",
   "metadata": {},
   "source": [
    "Make a new directory and move into it. All our Python files and outputs will go here."
   ]
  },
  {
   "cell_type": "markdown",
   "metadata": {},
   "source": [
    "In the previous sessions you learned how to package code into functions and to package functions into modules. Functions and modules let you easily design, write and package your code so that it is easy to understand and easily reusable. However, to share the code, and really understand what it works, you need to add documentation.\n",
    "\n",
    "You can access the documentation for any object using the Python `help` function or using `?` in the interactive Python console. For example, lets look at the documentation for the `print` function that we have used many times. Go to the Console and run:\n",
    "\n",
    "```ipython\n",
    "print?\n",
    "```\n",
    "it should return something that looks like:\n",
    "\n",
    "```\n",
    "Docstring:\n",
    "print(value, ..., sep=' ', end='\\n', file=sys.stdout, flush=False)\n",
    "\n",
    "Prints the values to a stream, or to sys.stdout by default.\n",
    "Optional keyword arguments:\n",
    "file:  a file-like object (stream); defaults to the current sys.stdout.\n",
    "sep:   string inserted between values, default a space.\n",
    "end:   string appended after the last value, default a newline.\n",
    "flush: whether to forcibly flush the stream.\n",
    "Type:      builtin_function_or_method\n",
    "```\n",
    "\n",
    "This *docstring* as it calls it (for documentation string) is a human-written piece of text which is there to help you, the programmer, know how to use the function.\n",
    "\n",
    "The `?` syntax is an IPython-specific thing but you can use the equivalent `help` function anywhere. If you run:\n",
    "\n",
    "```python\n",
    "help(print)\n",
    "```\n",
    "\n",
    "then you should see a very similar output.\n",
    "\n",
    "Throughout this chapter we will be learning how to make our own docstrings and how to create nice readable documentation web pages."
   ]
  },
  {
   "cell_type": "markdown",
   "metadata": {},
   "source": [
    "Let's start by writing a simple function in a module by itself which we can import and use. To begin we'll explore this in the Python Console and then we'll move onto putting this code into a module. For this example we'll use the `add_arrays` function from previous courses. Type the following into the "
   ]
  },
  {
   "cell_type": "code",
   "execution_count": 1,
   "metadata": {},
   "outputs": [],
   "source": [
    "def add_arrays(x, y):\n",
    "    z = []\n",
    "    for x_elem, y_elem in zip(x, y):\n",
    "        z.append(x_elem + y_elem)\n",
    "    return z"
   ]
  },
  {
   "cell_type": "markdown",
   "metadata": {},
   "source": [
    "To see what the documentation for this function is, we either type `add_arrays?` or:"
   ]
  },
  {
   "cell_type": "code",
   "execution_count": 2,
   "metadata": {},
   "outputs": [
    {
     "name": "stdout",
     "output_type": "stream",
     "text": [
      "Help on function add_arrays in module __main__:\n",
      "\n",
      "add_arrays(x, y)\n",
      "\n"
     ]
    }
   ],
   "source": [
    "help(add_arrays)"
   ]
  },
  {
   "cell_type": "markdown",
   "metadata": {},
   "source": [
    "By default, the only documentation available for a function is just a repeat of whatever we wrote on the `def` line so we see the name of the function along with the parameters available for it.\n",
    "\n",
    "If we want to give the user some more information, we can pass it is by putting a string as the first line inside the function. By convention we use a triple-quoted string which both starts and ends with three `\"` in a row as they allow you to have strings over multiple lines:"
   ]
  },
  {
   "cell_type": "code",
   "execution_count": 3,
   "metadata": {},
   "outputs": [],
   "source": [
    "def add_arrays(x, y):\n",
    "    \"\"\"\n",
    "    This function adds together each element of the two\n",
    "    passed lists, returning the result in the returned list.\n",
    "    \"\"\"\n",
    "    z = []\n",
    "    for x_elem, y_elem in zip(x, y):\n",
    "        z.append(x_elem + y_elem)\n",
    "    return z"
   ]
  },
  {
   "cell_type": "markdown",
   "metadata": {},
   "source": [
    "Now, when we ask for the documentation, we should see our docstring printed:"
   ]
  },
  {
   "cell_type": "code",
   "execution_count": 4,
   "metadata": {},
   "outputs": [
    {
     "name": "stdout",
     "output_type": "stream",
     "text": [
      "Help on function add_arrays in module __main__:\n",
      "\n",
      "add_arrays(x, y)\n",
      "    This function adds together each element of the two\n",
      "    passed lists, returning the result in the returned list.\n",
      "\n"
     ]
    }
   ],
   "source": [
    "help(add_arrays)"
   ]
  },
  {
   "cell_type": "markdown",
   "metadata": {},
   "source": [
    "You can write whatever text you like in the documentation string, the most important thing is that you give the users of your code the information they need. Useful information for a user of the function are things like:\n",
    "\n",
    " - What arguments it takes\n",
    " - What it returns\n",
    " - An example of how to use it\n",
    "\n",
    "There are a number of different conventions of how to format documentation strings but a common one is the Google style which would be done like:"
   ]
  },
  {
   "cell_type": "code",
   "execution_count": 5,
   "metadata": {},
   "outputs": [],
   "source": [
    "def add_arrays(x, y):\n",
    "    \"\"\"\n",
    "    This function adds together each element of the two passed lists.\n",
    "\n",
    "    Args:\n",
    "        x (list): The first list to add\n",
    "        y (list): The second list to add\n",
    "\n",
    "    Returns:\n",
    "        list: the pairwise sums of ``x`` and ``y``.\n",
    "\n",
    "    Examples:\n",
    "        >>> addArrays([1, 4, 5], [4, 3, 5])\n",
    "        [5, 7, 10]\n",
    "    \"\"\"\n",
    "    z = []\n",
    "    for x_, y_ in zip(x, y):\n",
    "        z.append(x_ + y_)\n",
    "\n",
    "    return z"
   ]
  },
  {
   "cell_type": "markdown",
   "metadata": {},
   "source": [
    "We can check that this works by again doing:"
   ]
  },
  {
   "cell_type": "code",
   "execution_count": 6,
   "metadata": {},
   "outputs": [
    {
     "name": "stdout",
     "output_type": "stream",
     "text": [
      "Help on function add_arrays in module __main__:\n",
      "\n",
      "add_arrays(x, y)\n",
      "    This function adds together each element of the two passed lists.\n",
      "    \n",
      "    Args:\n",
      "        x (list): The first list to add\n",
      "        y (list): The second list to add\n",
      "    \n",
      "    Returns:\n",
      "        list: the pairwise sums of ``x`` and ``y``.\n",
      "    \n",
      "    Examples:\n",
      "        >>> addArrays([1, 4, 5], [4, 3, 5])\n",
      "        [5, 7, 10]\n",
      "\n"
     ]
    }
   ],
   "source": [
    "help(add_arrays)"
   ]
  },
  {
   "cell_type": "markdown",
   "metadata": {},
   "source": [
    "This is a lot more information and it might seem strange that the documentation is longer than the code it describes but it's very important that you give the user of your code all the information that they need in order to use it.\n",
    "\n",
    "In this example we have given a short one-line description of what the function does. We have then explicitly listed all of the arguments to the function along with what type they expect..."
   ]
  }
 ],
 "metadata": {
  "kernelspec": {
   "display_name": "Python 3",
   "language": "python",
   "name": "python3"
  },
  "language_info": {
   "codemirror_mode": {
    "name": "ipython",
    "version": 3
   },
   "file_extension": ".py",
   "mimetype": "text/x-python",
   "name": "python",
   "nbconvert_exporter": "python",
   "pygments_lexer": "ipython3",
   "version": "3.7.3"
  }
 },
 "nbformat": 4,
 "nbformat_minor": 2
}
