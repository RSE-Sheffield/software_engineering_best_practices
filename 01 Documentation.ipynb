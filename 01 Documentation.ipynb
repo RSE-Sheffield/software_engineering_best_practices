{
 "cells": [
  {
   "cell_type": "markdown",
   "metadata": {},
   "source": [
    "# Documentation"
   ]
  },
  {
   "cell_type": "markdown",
   "metadata": {},
   "source": [
    "Make sure you have an environment where you can write Python code and run terminal commands such as we set up with JupyterLab in the last section."
   ]
  },
  {
   "cell_type": "markdown",
   "metadata": {},
   "source": [
    "In previous sessions you have learned how to package code into functions and to package functions into modules. Functions and modules let you design, write and package your code so that it is easy to understand and easily reusable. However, to share the code, and allow users to really understand how it works, you need to add documentation.\n",
    "\n",
    "You can access the documentation for any object using the Python `help` function or using `?` in the interactive Python console. For example, lets look at the documentation for the `print` function that we have used many times. Go to the Console and run:"
   ]
  },
  {
   "cell_type": "code",
   "execution_count": 1,
   "metadata": {},
   "outputs": [],
   "source": [
    "print?"
   ]
  },
  {
   "cell_type": "markdown",
   "metadata": {},
   "source": [
    "it should return something that looks like:\n",
    "\n",
    "```\n",
    "Docstring:\n",
    "print(value, ..., sep=' ', end='\\n', file=sys.stdout, flush=False)\n",
    "\n",
    "Prints the values to a stream, or to sys.stdout by default.\n",
    "Optional keyword arguments:\n",
    "file:  a file-like object (stream); defaults to the current sys.stdout.\n",
    "sep:   string inserted between values, default a space.\n",
    "end:   string appended after the last value, default a newline.\n",
    "flush: whether to forcibly flush the stream.\n",
    "Type:      builtin_function_or_method\n",
    "```\n",
    "\n",
    "This *docstring* as it calls it (for documentation string) is a human-written piece of text which is there to help you, the programmer, know how to use the function.\n",
    "\n",
    "The `?` syntax is an IPython-specific thing but you can use the equivalent `help` function anywhere. If you run:"
   ]
  },
  {
   "cell_type": "code",
   "execution_count": 2,
   "metadata": {},
   "outputs": [
    {
     "name": "stdout",
     "output_type": "stream",
     "text": [
      "Help on built-in function print in module builtins:\n",
      "\n",
      "print(...)\n",
      "    print(value, ..., sep=' ', end='\\n', file=sys.stdout, flush=False)\n",
      "    \n",
      "    Prints the values to a stream, or to sys.stdout by default.\n",
      "    Optional keyword arguments:\n",
      "    file:  a file-like object (stream); defaults to the current sys.stdout.\n",
      "    sep:   string inserted between values, default a space.\n",
      "    end:   string appended after the last value, default a newline.\n",
      "    flush: whether to forcibly flush the stream.\n",
      "\n"
     ]
    }
   ],
   "source": [
    "help(print)"
   ]
  },
  {
   "cell_type": "markdown",
   "metadata": {},
   "source": [
    "then you should see a very similar output.\n",
    "\n",
    "Throughout this chapter we will be learning how to make our own docstrings and how to create nice readable documentation web pages."
   ]
  },
  {
   "cell_type": "markdown",
   "metadata": {},
   "source": [
    "## Documenting our own functions\n",
    "\n",
    "Let's start by writing a simple function in a module by itself which we can import and use. To begin we'll explore this in the Python Console and then we'll move onto putting this code into a module. For this example we'll use the `add_arrays` function from previous courses. Type the following into the Python Console:"
   ]
  },
  {
   "cell_type": "code",
   "execution_count": 3,
   "metadata": {},
   "outputs": [],
   "source": [
    "def add_arrays(x, y):\n",
    "    z = []\n",
    "    for x_elem, y_elem in zip(x, y):\n",
    "        z.append(x_elem + y_elem)\n",
    "    return z"
   ]
  },
  {
   "cell_type": "markdown",
   "metadata": {},
   "source": [
    "To see what the documentation for this function is, we either type `add_arrays?` or:"
   ]
  },
  {
   "cell_type": "code",
   "execution_count": 4,
   "metadata": {},
   "outputs": [
    {
     "name": "stdout",
     "output_type": "stream",
     "text": [
      "Help on function add_arrays in module __main__:\n",
      "\n",
      "add_arrays(x, y)\n",
      "\n"
     ]
    }
   ],
   "source": [
    "help(add_arrays)"
   ]
  },
  {
   "cell_type": "markdown",
   "metadata": {},
   "source": [
    "By default, the only documentation available for a function is just a repeat of whatever we wrote on the `def` line, so we see the name of the function along with the parameters available for it.\n",
    "\n",
    "If we want to give the user some more information, we can pass it is by putting a string as the first thing inside the function. By convention we use a triple-quoted string which both starts and ends with three `\"` in a row as they allow you to have strings over multiple lines:"
   ]
  },
  {
   "cell_type": "code",
   "execution_count": 5,
   "metadata": {},
   "outputs": [],
   "source": [
    "def add_arrays(x, y):\n",
    "    \"\"\"\n",
    "    This function adds together each element of the two\n",
    "    passed lists, returning the result in the returned list.\n",
    "    \"\"\"\n",
    "    z = []\n",
    "    for x_elem, y_elem in zip(x, y):\n",
    "        z.append(x_elem + y_elem)\n",
    "    return z"
   ]
  },
  {
   "cell_type": "markdown",
   "metadata": {},
   "source": [
    "Now, when we ask for the documentation, we should see our docstring printed:"
   ]
  },
  {
   "cell_type": "code",
   "execution_count": 6,
   "metadata": {},
   "outputs": [
    {
     "name": "stdout",
     "output_type": "stream",
     "text": [
      "Help on function add_arrays in module __main__:\n",
      "\n",
      "add_arrays(x, y)\n",
      "    This function adds together each element of the two\n",
      "    passed lists, returning the result in the returned list.\n",
      "\n"
     ]
    }
   ],
   "source": [
    "help(add_arrays)"
   ]
  },
  {
   "cell_type": "markdown",
   "metadata": {},
   "source": [
    "You can write whatever text you like in the documentation string, the most important thing is that you give the users of your code the information they need. Useful information for a user of the function are things like:\n",
    "\n",
    " - What arguments it takes\n",
    " - What it returns\n",
    " - An example of how to use it\n",
    "\n",
    "There are a number of different conventions of how to format documentation strings but a common one is the Google style which looks like:"
   ]
  },
  {
   "cell_type": "code",
   "execution_count": 7,
   "metadata": {},
   "outputs": [],
   "source": [
    "def add_arrays(x, y):\n",
    "    \"\"\"\n",
    "    This function adds together each element of the two passed lists.\n",
    "\n",
    "    Args:\n",
    "        x (list): The first list to add\n",
    "        y (list): The second list to add\n",
    "\n",
    "    Returns:\n",
    "        list: the pairwise sums of ``x`` and ``y``.\n",
    "\n",
    "    Examples:\n",
    "        >>> add_arrays([1, 4, 5], [4, 3, 5])\n",
    "        [5, 7, 10]\n",
    "    \"\"\"\n",
    "    z = []\n",
    "    for x_, y_ in zip(x, y):\n",
    "        z.append(x_ + y_)\n",
    "\n",
    "    return z"
   ]
  },
  {
   "cell_type": "markdown",
   "metadata": {},
   "source": [
    "We can check that this works by again doing:"
   ]
  },
  {
   "cell_type": "code",
   "execution_count": 8,
   "metadata": {},
   "outputs": [
    {
     "name": "stdout",
     "output_type": "stream",
     "text": [
      "Help on function add_arrays in module __main__:\n",
      "\n",
      "add_arrays(x, y)\n",
      "    This function adds together each element of the two passed lists.\n",
      "    \n",
      "    Args:\n",
      "        x (list): The first list to add\n",
      "        y (list): The second list to add\n",
      "    \n",
      "    Returns:\n",
      "        list: the pairwise sums of ``x`` and ``y``.\n",
      "    \n",
      "    Examples:\n",
      "        >>> add_arrays([1, 4, 5], [4, 3, 5])\n",
      "        [5, 7, 10]\n",
      "\n"
     ]
    }
   ],
   "source": [
    "help(add_arrays)"
   ]
  },
  {
   "cell_type": "markdown",
   "metadata": {},
   "source": [
    "This is a lot more information and it might seem strange that the documentation is longer than the code it describes but it's very important that you give the user of your code all the information that they need in order to use it. Remember, your documentation is only going to be written once but it will be read many times so it's worth spending the time on it.\n",
    "\n",
    "In this example we have given a short one-line description of what the function does. Then  we explicitly listed all of the arguments to the function along with what type they expect. After that we specified the type and description of the return value. Finally, and importantly we give an example to the user of how the function can be called and the output that it will give. The `>>>` go in front of the line of calling Python code and the return value is on the line after.\n",
    "\n",
    "You can find more examples of the Google documentation style in the [official Sphinx documentation](https://www.sphinx-doc.org/en/master/usage/extensions/example_google.html)."
   ]
  },
  {
   "cell_type": "markdown",
   "metadata": {},
   "source": [
    "## Documenting modules\n",
    "\n",
    "As well as functions, we can document whole modules. To do this, we'll have to move our function into a file called `arrays.py`. From previous courses, you should remember that this will make a module called `arrays` which we can import.\n",
    "\n",
    "To document a module you use the same triple-quoted string as in functions but this time it goes at the very top of the file.\n",
    "\n",
    "In the file editor, make a file called `arrays.py` in the `bestpractices` folder and put the following in it:"
   ]
  },
  {
   "cell_type": "code",
   "execution_count": 9,
   "metadata": {
    "tags": [
     "nbval-skip"
    ]
   },
   "outputs": [
    {
     "name": "stdout",
     "output_type": "stream",
     "text": [
      "Overwriting arrays.py\n"
     ]
    }
   ],
   "source": [
    "%%writefile arrays.py\n",
    "\n",
    "\"\"\"\n",
    "This module contains functions for manipulating and combining Python lists.\n",
    "\"\"\"\n",
    "\n",
    "def add_arrays(x, y):\n",
    "    \"\"\"\n",
    "    This function adds together each element of the two passed lists.\n",
    "\n",
    "    Args:\n",
    "        x (list): The first list to add\n",
    "        y (list): The second list to add\n",
    "\n",
    "    Returns:\n",
    "        list: the pairwise sums of ``x`` and ``y``.\n",
    "\n",
    "    Examples:\n",
    "        >>> add_arrays([1, 4, 5], [4, 3, 5])\n",
    "        [5, 7, 10]\n",
    "    \"\"\"\n",
    "    z = []\n",
    "    for x_, y_ in zip(x, y):\n",
    "        z.append(x_ + y_)\n",
    "\n",
    "    return z"
   ]
  },
  {
   "cell_type": "markdown",
   "metadata": {},
   "source": [
    "We can then import the module in the Python Console:"
   ]
  },
  {
   "cell_type": "code",
   "execution_count": 10,
   "metadata": {},
   "outputs": [],
   "source": [
    "import arrays"
   ]
  },
  {
   "cell_type": "markdown",
   "metadata": {},
   "source": [
    "If you get an import error, the Console may be looking in the wrong folder. Move to the correct folder using `%cd bestpractices`.\n",
    "\n",
    "Once it is imported we can get the documentation for the function with:"
   ]
  },
  {
   "cell_type": "code",
   "execution_count": 11,
   "metadata": {},
   "outputs": [
    {
     "name": "stdout",
     "output_type": "stream",
     "text": [
      "Help on function add_arrays in module arrays:\n",
      "\n",
      "add_arrays(x, y)\n",
      "    This function adds together each element of the two passed lists.\n",
      "    \n",
      "    Args:\n",
      "        x (list): The first list to add\n",
      "        y (list): The second list to add\n",
      "    \n",
      "    Returns:\n",
      "        list: the pairwise sums of ``x`` and ``y``.\n",
      "    \n",
      "    Examples:\n",
      "        >>> add_arrays([1, 4, 5], [4, 3, 5])\n",
      "        [5, 7, 10]\n",
      "\n"
     ]
    }
   ],
   "source": [
    "help(arrays.add_arrays)"
   ]
  },
  {
   "cell_type": "markdown",
   "metadata": {},
   "source": [
    "But we can also get the documentation for the whole module with:"
   ]
  },
  {
   "cell_type": "code",
   "execution_count": 12,
   "metadata": {
    "tags": [
     "nbval-skip"
    ]
   },
   "outputs": [
    {
     "name": "stdout",
     "output_type": "stream",
     "text": [
      "Help on module arrays:\n",
      "\n",
      "NAME\n",
      "    arrays - This module contains functions for manipulating and combining Python lists.\n",
      "\n",
      "FUNCTIONS\n",
      "    add_arrays(x, y)\n",
      "        This function adds together each element of the two passed lists.\n",
      "        \n",
      "        Args:\n",
      "            x (list): The first list to add\n",
      "            y (list): The second list to add\n",
      "        \n",
      "        Returns:\n",
      "            list: the pairwise sums of ``x`` and ``y``.\n",
      "        \n",
      "        Examples:\n",
      "            >>> add_arrays([1, 4, 5], [4, 3, 5])\n",
      "            [5, 7, 10]\n",
      "\n",
      "FILE\n",
      "    /home/matt/courses/software_engineering_best_practices/arrays.py\n",
      "\n",
      "\n"
     ]
    }
   ],
   "source": [
    "help(arrays)"
   ]
  },
  {
   "cell_type": "markdown",
   "metadata": {},
   "source": [
    "You'll see in this case that it's showing the overall module docstring as well as those for the functions inside it."
   ]
  },
  {
   "cell_type": "markdown",
   "metadata": {
    "tags": [
     "exercise"
    ]
   },
   "source": [
    "### Exercise\n",
    "\n",
    "Run the example code from the documentation in the Console. Make sure that you are seeing the same output as shown in the docs.\n",
    "- hint: remember that the `add_arrays` function is inside the `arrays` module so you either have to import it as `from arrays import add_arrays` or run it with `arrays.add_arrays`."
   ]
  },
  {
   "cell_type": "markdown",
   "metadata": {},
   "source": [
    "## Documentation-driven-development\n",
    "\n",
    "It's always worth writing some documentation for each of your functions but you can go a step further and use a method known as *documentation-driven-development*. In this model you write the function signature and documentation for the function first, before writing any of the code inside it. This encourages you to think ahead of time about exactly what your function will do, how it will be called by users and what you expect it to return."
   ]
  },
  {
   "cell_type": "markdown",
   "metadata": {},
   "source": [
    "## Generating documentation web pages\n",
    "\n",
    "Providing documentation for your functions inside the Python Console is a useful thing to do but it's expected of most publicly published projects to also have a web-browsable version as well. There is a tool for Python called [Sphinx](https://www.sphinx-doc.org) which does exactly that.\n",
    "\n",
    "Make sure Sphinx is installed. Test in the Terminal that `sphinx-build` exists by running it and checking that it returns the message:\n",
    "\n",
    "```\n",
    "usage: sphinx-build [OPTIONS] SOURCEDIR OUTPUTDIR [FILENAMES...]\n",
    "sphinx-build: error: the following arguments are required: sourcedir, outputdir, filenames\n",
    "```\n",
    "\n",
    "If it is not installed then either:\n",
    "- install it into the base environment through Anaconda Navigator\n",
    "- or create a new environment, install both `jupyterlab` and `sphinx` and then restart JupyterLab in that environment.\n",
    "\n",
    "Open up the terminal and make sure that you are in the correct directory. You can check this by running `ls` if you are on Linux or MacOS or `dir` if you are running Windows. You should see `arrays.py` listed in the output.\n",
    "\n",
    "We are now going to create a set of Sphinx configuration files. Sphinx provides a tool called `sphinx-quickstart` for this purpose which will ask you a few questions and create all the files it needs. In the Terminal, type:\n",
    "\n",
    "`sphinx-quickstart`\n",
    "\n",
    "and answer the questions it asks in the following way:\n",
    "\n",
    "- `n` to `Separate source and build directories`\n",
    "- Set the project name to `Arrays`\n",
    "- Enter your name as the `Author name`\n",
    "- Just press enter for `Project release`\n",
    "- Just press enter for `Project language`\n",
    "\n",
    "After that it should return you to the Terminal prompt.\n",
    "\n",
    "Now that we have the configuration for Sphinx set up, run `make html` which will go ahead and generate the documentation and create some HTML files on your computer. To find out where they went, run the following in the Python Console:\n",
    "\n",
    "```python\n",
    "import os\n",
    "print(f\"file://{os.getcwd()}/_build/html/index.html\")\n",
    "```\n",
    "\n",
    "That will print out something like `file:///home/matt/bestpractices/_build/html/index.html`. Copy and paste that into the URL bar in your web browser and it should bring up the documentation. It should look like:\n",
    "\n",
    "![Arrays documentation](arrays_page1.png \"Arrays documentation\")"
   ]
  },
  {
   "cell_type": "markdown",
   "metadata": {
    "tags": [
     "exercise"
    ]
   },
   "source": [
    "### Exercise\n",
    "\n",
    "Add some text (it doesn't matter too much what you write) between the `toctree` block and `Indices and tables` in `index.rst`. Make sure that it is not indented at all. Regenerate the documentation pages with `make html` and refresh your web browser. You should see the text appear. [<small>answer</small>](answer_simple_doc_message.ipynb)"
   ]
  },
  {
   "cell_type": "markdown",
   "metadata": {},
   "source": [
    "### Adding our documentation to Sphinx\n",
    "\n",
    "In order for our function and module documentation to show up in the HTML pages we need to make a few tweaks to the Sphinx configuration.\n",
    "\n",
    "First we need to enable the `autodoc` extension so that Sphinx can create documentation pages from Python source code and the `napoleon` extension so that it understands the Google-style docstrings. Open `conf.py` (it's a normal Python file) and find the `extensions` variable. It will be defined to be an empty list. Edit it so that it reads:\n",
    "\n",
    "```python\n",
    "extensions = [\n",
    "    'sphinx.ext.autodoc',\n",
    "    'sphinx.ext.napoleon',\n",
    "]\n",
    "```\n",
    "\n",
    "The other change we need to make in `conf.py` is is to allow Sphinx to import our `arrays` module. To allow this it needs to have the current directory in its search path. Find on lines 13, 14, and 15 the lines that read:\n",
    "\n",
    "```python\n",
    "# import os\n",
    "# import sys\n",
    "# sys.path.insert(0, os.path.abspath('.'))\n",
    "```\n",
    "\n",
    "and uncomment them so that they look like:\n",
    "\n",
    "```python\n",
    "import os\n",
    "import sys\n",
    "sys.path.insert(0, os.path.abspath('.'))\n",
    "```\n",
    "\n",
    "This is all the configuration changes we need to make. We're now ready to tell Sphinx about our module. To do this we will put some special code in a file called `arrays.rst` whcih Sphinx will interpret to find our source code and documentation.\n",
    "\n",
    "Create a new files called `arrays.rst` and put the following:\n",
    "\n",
    "```rst\n",
    "arrays module\n",
    "=============\n",
    "\n",
    ".. automodule:: arrays\n",
    "   :members:\n",
    "   :undoc-members:\n",
    "   :show-inheritance:\n",
    "```\n",
    "\n",
    "Then edit the `toctree` directive in `index.rst` to look like:\n",
    "\n",
    "```rst\n",
    ".. toctree::\n",
    "   :maxdepth: 2\n",
    "   :caption: Contents:\n",
    "   \n",
    "   arrays\n",
    "```\n",
    "\n",
    "being careful to check that the indentation is correct and lines up.\n",
    "\n",
    "Run `make html` once more and refresh the documentation HTML page. On the main page, click \"arrays module\". This will take you to the page with the documentation. It should look like:\n",
    "\n",
    "![Arrays documentation](arrays_page3.png \"Arrays documentation\")\n",
    "\n",
    "You'll see here that the module docstring is shown at the top, followed by the documentation for the function. It's formatted the parameters and return types nicely and has even highlighted the example as Python code."
   ]
  },
  {
   "cell_type": "markdown",
   "metadata": {
    "tags": [
     "exercise"
    ]
   },
   "source": [
    "### Exercise\n",
    "\n",
    "- Make a new function called `subtract_arrays` in `arrays.py` which does the same thing as `add_arrays` but subtracts them instead. Fully document the function and regenerate the HTML documentation to check that it looks correct.\n",
    "- Try changing the theme to one from https://www.sphinx-doc.org/en/master/usage/theming.html#builtin-themes"
   ]
  },
  {
   "cell_type": "markdown",
   "metadata": {},
   "source": [
    "Sphinx is by far the most commonly used documentation tool for Python projects. It's even used by [the official Python documentation](https://docs.python.org). If you have your Python project hosted at a publicly visible Git hosting site like GitHub, GitLab or Bitbucket, there is a free service called [Read The Docs](https://readthedocs.org) which can build and host your pages for you.\n",
    "\n",
    "When using Git or any other version control software, you should make sure you check in your documentation sources alongside your code. For Sphinx, make sure you add `conf.py`, any `rst` files you create manually and the \"make\" files. Do not commit to Git any HTML output from running Sphinx."
   ]
  }
 ],
 "metadata": {
  "celltoolbar": "Tags",
  "kernelspec": {
   "display_name": "Python 3",
   "language": "python",
   "name": "python3"
  },
  "language_info": {
   "codemirror_mode": {
    "name": "ipython",
    "version": 3
   },
   "file_extension": ".py",
   "mimetype": "text/x-python",
   "name": "python",
   "nbconvert_exporter": "python",
   "pygments_lexer": "ipython3",
   "version": "3.7.3"
  }
 },
 "nbformat": 4,
 "nbformat_minor": 2
}
