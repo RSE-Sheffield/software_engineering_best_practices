{
 "cells": [
  {
   "cell_type": "markdown",
   "metadata": {},
   "source": [
    "# Final exercise\n",
    "\n",
    "Make a new directory alongside the `bestprac` folder called `crypto`. In the Terminal change to that directory with `cd ../crypto` and in the Python Console change there with `%cd ../crypto`. In that directory make two new files called `morse.py` and `test_morse.py`:"
   ]
  },
  {
   "cell_type": "code",
   "execution_count": 1,
   "metadata": {},
   "outputs": [
    {
     "name": "stdout",
     "output_type": "stream",
     "text": [
      "Writing morse.py\n"
     ]
    }
   ],
   "source": [
    "%%writefile morse.py\n",
    "\n",
    "# A lookup dictionary which, given a letter will return the morse code equivalent\n",
    "_letter_to_morse = {'a':'.-', 'b':'-...', 'c':'-.-.', 'd':'-..', 'e':'.', 'f':'..-.', \n",
    "                   'g':'--.', 'h':'....', 'i':'..', 'j':'.---', 'k':'-.-', 'l':'.-..', 'm':'--', \n",
    "                   'n':'-.', 'o':'---', 'p':'.--.', 'q':'--.-', 'r':'.-.', 's':'...', 't':'-',\n",
    "                   'u':'..-', 'v':'...-', 'w':'.--', 'x':'-..-', 'y':'-.--', 'z':'--..',\n",
    "                   '0':'-----', '1':'.----', '2':'..---', '3':'...--', '4':'....-',\n",
    "                   '5':'.....', '6':'-....', '7':'--...', '8':'---..', '9':'----.',\n",
    "                   ' ':'/'}\n",
    "\n",
    "# This will create a dictionary that can go from the morse back to the letter\n",
    "_morse_to_letter = {}\n",
    "for letter in _letter_to_morse:\n",
    "    morse = _letter_to_morse[letter]\n",
    "    _morse_to_letter[morse] = letter\n",
    "\n",
    "\n",
    "def encode(message):\n",
    "    morse = []\n",
    "\n",
    "    for letter in message:\n",
    "        letter = letter.lower()\n",
    "        morse.append(_letter_to_morse[letter])\n",
    "\n",
    "    # We need to join together Morse code letters with spaces\n",
    "    morse_message = \" \".join(morse)\n",
    "    \n",
    "    return morse_message\n",
    "\n",
    "\n",
    "def decode(message):\n",
    "    english = []\n",
    "\n",
    "    # Now we cannot read by letter. We know that morse letters are\n",
    "    # separated by a space, so we split the morse string by spaces\n",
    "    morse_letters = message.split(\" \")\n",
    "\n",
    "    for letter in morse_letters:\n",
    "        english.append(_morse_to_letter[letter])\n",
    "\n",
    "    # Rejoin, but now we don't need to add any spaces\n",
    "    english_message = \"\".join(english)\n",
    "    \n",
    "    return english_message"
   ]
  },
  {
   "cell_type": "code",
   "execution_count": 11,
   "metadata": {},
   "outputs": [
    {
     "name": "stdout",
     "output_type": "stream",
     "text": [
      "Overwriting test_morse.py\n"
     ]
    }
   ],
   "source": [
    "%%writefile test_morse.py\n",
    "\n",
    "from morse import encode, decode\n",
    "\n",
    "def test_encode():\n",
    "    assert encode(\"sos\") == \"... --- ...\""
   ]
  },
  {
   "cell_type": "markdown",
   "metadata": {
    "tags": [
     "exercise"
    ]
   },
   "source": [
    "### Exercise\n",
    "\n",
    "- Add documentation to the `morse` module and to the `encode` and `decode` functions. Make sure you detail the inputs, outputs and give an example of their usage. Look at the tests to get an idea of how it works or try importing `morse` in the Python Console and have a play with the functions to understand them.\n",
    "- Create a Sphinx configuration for the new directory, calling it \"Crypto\" this time rather than \"Arrays\".\n",
    "- Make sure you can generate the documentation and view it in your browser."
   ]
  },
  {
   "cell_type": "markdown",
   "metadata": {
    "tags": [
     "exercise"
    ]
   },
   "source": [
    "### Exercise\n",
    "\n",
    "- Add a test for the `decode` function and check it passes with `pytest`.\n",
    "- Parametrise both tests to give several examples.\n",
    "  - Make sure you include upper and lower case letters as well as checking what happens if you pass in empty strings"
   ]
  },
  {
   "cell_type": "markdown",
   "metadata": {
    "tags": [
     "exercise"
    ]
   },
   "source": [
    "### Exercise\n",
    "\n",
    "- What happens if you pass in the string `\"Don't forget to save us\"` to `encode`?\n",
    "  - Hint: The problem is caused by the `'` in the string\n",
    "- Edit `morse.py` to raise a `ValueError` in this situation instead.\n",
    "- Write a test to make sure that the `ValueError` is raised in this situation.\n",
    "- Parametrise that test with some other examples including the `&` and `£` characters."
   ]
  }
 ],
 "metadata": {
  "celltoolbar": "Tags",
  "kernelspec": {
   "display_name": "Python 3",
   "language": "python",
   "name": "python3"
  },
  "language_info": {
   "codemirror_mode": {
    "name": "ipython",
    "version": 3
   },
   "file_extension": ".py",
   "mimetype": "text/x-python",
   "name": "python",
   "nbconvert_exporter": "python",
   "pygments_lexer": "ipython3",
   "version": "3.7.3"
  }
 },
 "nbformat": 4,
 "nbformat_minor": 2
}
