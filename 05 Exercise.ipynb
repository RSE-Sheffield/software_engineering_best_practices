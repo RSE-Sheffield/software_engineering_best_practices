{
 "cells": [
  {
   "cell_type": "markdown",
   "metadata": {},
   "source": [
    "# Final exercise\n",
    "\n",
    "We've now covered all the topics on this course so to finish off, work through this final exercise. It is designed to give you a chance to pratise what you've learned on some new code.\n",
    "\n",
    "Make a new directory alongside the `bestpractices` folder called `crypto`. In the Terminal change to that directory with `cd ../crypto` and in the Python Console change there with `%cd ../crypto`. In that directory make two new files called `morse.py` and `test_morse.py`:"
   ]
  },
  {
   "cell_type": "code",
   "execution_count": 1,
   "metadata": {},
   "outputs": [
    {
     "name": "stdout",
     "output_type": "stream",
     "text": [
      "Writing morse.py\n"
     ]
    }
   ],
   "source": [
    "%%writefile morse.py\n",
    "\n",
    "# A lookup dictionary which, given a letter will return the morse code equivalent\n",
    "_letter_to_morse = {'a':'.-', 'b':'-...', 'c':'-.-.', 'd':'-..', 'e':'.', 'f':'..-.', \n",
    "                   'g':'--.', 'h':'....', 'i':'..', 'j':'.---', 'k':'-.-', 'l':'.-..', 'm':'--', \n",
    "                   'n':'-.', 'o':'---', 'p':'.--.', 'q':'--.-', 'r':'.-.', 's':'...', 't':'-',\n",
    "                   'u':'..-', 'v':'...-', 'w':'.--', 'x':'-..-', 'y':'-.--', 'z':'--..',\n",
    "                   '0':'-----', '1':'.----', '2':'..---', '3':'...--', '4':'....-',\n",
    "                   '5':'.....', '6':'-....', '7':'--...', '8':'---..', '9':'----.',\n",
    "                   ' ':'/'}\n",
    "\n",
    "# This will create a dictionary that can go from the morse back to the letter\n",
    "_morse_to_letter = {}\n",
    "for letter in _letter_to_morse:\n",
    "    morse = _letter_to_morse[letter]\n",
    "    _morse_to_letter[morse] = letter\n",
    "\n",
    "\n",
    "def encode(message):\n",
    "    morse = []\n",
    "\n",
    "    for letter in message:\n",
    "        letter = letter.lower()\n",
    "        morse.append(_letter_to_morse[letter])\n",
    "\n",
    "    # We need to join together Morse code letters with spaces\n",
    "    morse_message = \" \".join(morse)\n",
    "    \n",
    "    return morse_message\n",
    "\n",
    "\n",
    "def decode(message):\n",
    "    english = []\n",
    "\n",
    "    # Now we cannot read by letter. We know that morse letters are\n",
    "    # separated by a space, so we split the morse string by spaces\n",
    "    morse_letters = message.split(\" \")\n",
    "\n",
    "    for letter in morse_letters:\n",
    "        english.append(_morse_to_letter[letter])\n",
    "\n",
    "    # Rejoin, but now we don't need to add any spaces\n",
    "    english_message = \"\".join(english)\n",
    "    \n",
    "    return english_message"
   ]
  },
  {
   "cell_type": "code",
   "execution_count": 2,
   "metadata": {},
   "outputs": [
    {
     "name": "stdout",
     "output_type": "stream",
     "text": [
      "Writing test_morse.py\n"
     ]
    }
   ],
   "source": [
    "%%writefile test_morse.py\n",
    "\n",
    "from morse import encode, decode\n",
    "\n",
    "def test_encode():\n",
    "    assert encode(\"SOS\") == \"... --- ...\""
   ]
  },
  {
   "cell_type": "markdown",
   "metadata": {},
   "source": [
    "This module is designed to convert message to and from [Morse code](https://en.wikipedia.org/wiki/Morse_code). It provides one function which takes an English message and converts it to a Morse code string, separated by spaces and another function which takes the Morse code string and converts it to English."
   ]
  },
  {
   "cell_type": "markdown",
   "metadata": {
    "tags": [
     "exercise"
    ]
   },
   "source": [
    "### Exercise\n",
    "\n",
    "- Add documentation to the `morse` module and to the `encode` and `decode` functions. Make sure you detail the inputs, outputs and give an example of their usage. Look at the tests to get an idea of how it works or try importing `morse` in the Python Console and have a play with the functions to understand them.\n",
    "\n",
    "[<small>answer</small>](answer_final_morse_doc.ipynb)"
   ]
  },
  {
   "cell_type": "markdown",
   "metadata": {
    "tags": [
     "exercise"
    ]
   },
   "source": [
    "### Exercise\n",
    "\n",
    "- Add a test for the `decode` function to `test_morse.py` and check it passes with `pytest`\n",
    "- Parametrise both tests to give several examples\n",
    "  - Make sure you include upper and lower case letters as well as checking what happens if you pass in empty strings\n",
    "- Make sure to use `--doctest-modules` to run the documentation examples that you added in the last exercise\n",
    "- Hint: When writing doctests, it cares whether your test output uses single or double quotes (`'` or `\"`). Use single quotes for doctest outputs.\n",
    "\n",
    "[<small>answer</small>](answer_final_morse_test.ipynb)"
   ]
  },
  {
   "cell_type": "markdown",
   "metadata": {
    "tags": [
     "exercise"
    ]
   },
   "source": [
    "### Exercise\n",
    "\n",
    "- What happens if you pass in the string `\"Don't forget to save us\"` to `encode`?\n",
    "  - Hint: The problem is caused by the `'` in the string\n",
    "- Edit `morse.py` to raise a `ValueError` in this situation instead.\n",
    "- Write a test to make sure that the `ValueError` is raised when a string with a `'` is passed in.\n",
    "- Parametrise that test with some other examples including the `&` and `£` characters.\n",
    "\n",
    "[<small>answer</small>](answer_final_morse_error.ipynb)"
   ]
  },
  {
   "cell_type": "markdown",
   "metadata": {},
   "source": [
    "## Another cypher\n",
    "\n",
    "Let's add another text cypher to our `crypto` package. This time we will implement the [Caesar Cipher](https://en.wikipedia.org/wiki/Caesar_cipher) or [ROT13](https://en.wikipedia.org/wiki/ROT13). Once more the module will provide `encode` and `decode` functions:"
   ]
  },
  {
   "cell_type": "code",
   "execution_count": 3,
   "metadata": {},
   "outputs": [
    {
     "name": "stdout",
     "output_type": "stream",
     "text": [
      "Writing rot13.py\n"
     ]
    }
   ],
   "source": [
    "%%writefile rot13.py\n",
    "\n",
    "import string\n",
    "\n",
    "_lower_cipher = string.ascii_lowercase[13:] + string.ascii_lowercase[:13]\n",
    "_upper_cipher = string.ascii_uppercase[13:] + string.ascii_uppercase[:13]\n",
    "\n",
    "def encode(message):\n",
    "    output = []\n",
    "    for letter in message:\n",
    "        if letter in string.ascii_lowercase:\n",
    "            i = string.ascii_lowercase.find(letter)\n",
    "            output.append(_lower_cipher[i])\n",
    "        elif letter in string.ascii_uppercase:\n",
    "            i = string.ascii_uppercase.find(letter)\n",
    "            output.append(_upper_cipher[i])\n",
    "    \n",
    "    return \"\".join(output)\n",
    "\n",
    "\n",
    "def decode(message):\n",
    "    output = []\n",
    "    for letter in message:\n",
    "        if letter in _lower_cipher:\n",
    "            i = _lower_cipher.find(letter)\n",
    "            output.append(string.ascii_uppercase[i])\n",
    "        elif letter in _upper_cipher:\n",
    "            i = _upper_cipher.find(letter)\n",
    "            output.append(string.ascii_uppercase[i])\n",
    "    \n",
    "    return \"\".join(output)"
   ]
  },
  {
   "cell_type": "markdown",
   "metadata": {
    "tags": [
     "exercise"
    ]
   },
   "source": [
    "### Exercise\n",
    "\n",
    "- Add documentation for the `rot13` module.\n",
    "\n",
    "[<small>answer</small>](answer_final_rot13_doc.ipynb)"
   ]
  },
  {
   "cell_type": "markdown",
   "metadata": {},
   "source": [
    "This time the tests are provided for you. Copy this into a new file called `test_rot13.py`:"
   ]
  },
  {
   "cell_type": "code",
   "execution_count": 4,
   "metadata": {},
   "outputs": [
    {
     "name": "stdout",
     "output_type": "stream",
     "text": [
      "Writing test_rot13.py\n"
     ]
    }
   ],
   "source": [
    "%%writefile test_rot13.py\n",
    "\n",
    "import pytest\n",
    "\n",
    "from rot13 import encode, decode\n",
    "\n",
    "@pytest.mark.parametrize(\"message, expected\", [\n",
    "    (\"SECRET\", \"FRPERG\"),\n",
    "    (\"secret\", \"frperg\"),\n",
    "])\n",
    "def test_encode(message, expected):\n",
    "    assert encode(message) == expected\n",
    "\n",
    "@pytest.mark.parametrize(\"message, expected\", [\n",
    "    (\"FRPERG\", \"SECRET\"),\n",
    "    (\"frperg\", \"secret\"),\n",
    "])\n",
    "def test_decode(message, expected):\n",
    "    assert decode(message) == expected\n",
    "\n",
    "def test_encode_spaces_error():\n",
    "    with pytest.raises(ValueError):\n",
    "        encode(\"Secret message for you\")"
   ]
  },
  {
   "cell_type": "markdown",
   "metadata": {},
   "source": [
    "When we run these tests with `pytest` we see that there are some passes and some failures:"
   ]
  },
  {
   "cell_type": "code",
   "execution_count": 5,
   "metadata": {
    "tags": [
     "nbval-ignore-output"
    ]
   },
   "outputs": [
    {
     "name": "stdout",
     "output_type": "stream",
     "text": [
      "\u001b[1m=================== test session starts ====================\u001b[0m\n",
      "platform linux -- Python 3.7.3, pytest-5.2.1, py-1.8.0, pluggy-0.13.0 -- /home/matt/courses/software_engineering_best_practices/venv/bin/python3\n",
      "cachedir: .pytest_cache\n",
      "rootdir: /home/matt/courses/software_engineering_best_practices\n",
      "plugins: nbval-0.9.3\n",
      "collected 5 items                                          \u001b[0m\n",
      "\n",
      "test_rot13.py::test_encode[SECRET-FRPERG] \u001b[32mPASSED\u001b[0m\u001b[36m     [ 20%]\u001b[0m\n",
      "test_rot13.py::test_encode[secret-frperg] \u001b[32mPASSED\u001b[0m\u001b[36m     [ 40%]\u001b[0m\n",
      "test_rot13.py::test_decode[FRPERG-SECRET] \u001b[32mPASSED\u001b[0m\u001b[36m     [ 60%]\u001b[0m\n",
      "test_rot13.py::test_decode[frperg-secret] \u001b[31mFAILED\u001b[0m\u001b[36m     [ 80%]\u001b[0m\n",
      "test_rot13.py::test_encode_spaces_error \u001b[31mFAILED\u001b[0m\u001b[36m       [100%]\u001b[0m\n",
      "\n",
      "========================= FAILURES =========================\n",
      "\u001b[31m\u001b[1m________________ test_decode[frperg-secret] ________________\u001b[0m\n",
      "\n",
      "message = 'frperg', expected = 'secret'\n",
      "\n",
      "\u001b[1m    @pytest.mark.parametrize(\"message, expected\", [\u001b[0m\n",
      "\u001b[1m        (\"FRPERG\", \"SECRET\"),\u001b[0m\n",
      "\u001b[1m        (\"frperg\", \"secret\"),\u001b[0m\n",
      "\u001b[1m    ])\u001b[0m\n",
      "\u001b[1m    def test_decode(message, expected):\u001b[0m\n",
      "\u001b[1m>       assert decode(message) == expected\u001b[0m\n",
      "\u001b[1m\u001b[31mE       AssertionError: assert 'SECRET' == 'secret'\u001b[0m\n",
      "\u001b[1m\u001b[31mE         - SECRET\u001b[0m\n",
      "\u001b[1m\u001b[31mE         + secret\u001b[0m\n",
      "\n",
      "\u001b[1m\u001b[31mtest_rot13.py\u001b[0m:18: AssertionError\n",
      "\u001b[31m\u001b[1m_________________ test_encode_spaces_error _________________\u001b[0m\n",
      "\n",
      "\u001b[1m    def test_encode_spaces_error():\u001b[0m\n",
      "\u001b[1m        with pytest.raises(ValueError):\u001b[0m\n",
      "\u001b[1m>           encode(\"Secret message for you\")\u001b[0m\n",
      "\u001b[1m\u001b[31mE           Failed: DID NOT RAISE <class 'ValueError'>\u001b[0m\n",
      "\n",
      "\u001b[1m\u001b[31mtest_rot13.py\u001b[0m:22: Failed\n",
      "\u001b[31m\u001b[1m=============== 2 failed, 3 passed in 0.26s ================\u001b[0m\n"
     ]
    }
   ],
   "source": [
    "!COLUMNS=60 venv/bin/pytest -v test_rot13.py"
   ]
  },
  {
   "cell_type": "markdown",
   "metadata": {
    "tags": [
     "exercise"
    ]
   },
   "source": [
    "### Exercise\n",
    "\n",
    "There are two failing tests:\n",
    "\n",
    "1. `test_rot13.py::test_decode[frperg-secret]` is failing due to a bug in the code. Find the bug in `rot13.py` and fix it so that the test passes.\n",
    "2. `test_rot13.py::test_encode_spaces_error` is failing due to a missing feature in our code. At the moment any spaces in the string are ignored. Change `encode` and `decode` in `rot13.py` so that they raise an error if any letter in the message is not found in the lookup string.\n",
    "  - Hint: You should add an `else` to the `if`/`elif` blocks\n",
    "\n",
    "[<small>answer</small>](answer_final_rot13_fix.ipynb)"
   ]
  },
  {
   "cell_type": "markdown",
   "metadata": {
    "tags": [
     "exercise"
    ]
   },
   "source": [
    "### Exercise\n",
    "\n",
    "- Add a test to both `test_morse.py` and `test_rot13.py` which checks for \"round-tripping\". That is, check that a valid message which is passed to `encode` and then the output of that is passed to `decode` gets you back the original message.\n",
    "- What types of messages do not round-trip correctly in `morse`? What could you do to the test to make it pass?\n",
    "\n",
    "[<small>answer</small>](answer_final_rot13_roundtrip.ipynb)"
   ]
  }
 ],
 "metadata": {
  "celltoolbar": "Tags",
  "kernelspec": {
   "display_name": "Python 3",
   "language": "python",
   "name": "python3"
  },
  "language_info": {
   "codemirror_mode": {
    "name": "ipython",
    "version": 3
   },
   "file_extension": ".py",
   "mimetype": "text/x-python",
   "name": "python",
   "nbconvert_exporter": "python",
   "pygments_lexer": "ipython3",
   "version": "3.8.5"
  }
 },
 "nbformat": 4,
 "nbformat_minor": 4
}
