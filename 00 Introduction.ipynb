{
 "cells": [
  {
   "cell_type": "markdown",
   "metadata": {},
   "source": [
    "- Documentation ~1hr\n",
    "  - Documenting functions\n",
    "  - Then modules and classes\n",
    "  - Mention Sphinx/readthedocs to create webpages but don't do exercise\n",
    "- Testing ~1.5hr\n",
    "  - Testing a simple function\n",
    "  - Parametrisation\n",
    "  - Expected failures\n",
    "  - doctests\n",
    "  - Hypothesis?\n",
    "- Licensing ~0.5hr\n",
    "  - Choose one! https://choosealicense.com\n",
    "  - University policy and advice http://www.bristol.ac.uk/media-library/sites/business/documents/commercialisation/Open%20Source%20Software%20Licensing.pdf"
   ]
  }
 ],
 "metadata": {
  "kernelspec": {
   "display_name": "Python 3",
   "language": "python",
   "name": "python3"
  },
  "language_info": {
   "codemirror_mode": {
    "name": "ipython",
    "version": 3
   },
   "file_extension": ".py",
   "mimetype": "text/x-python",
   "name": "python",
   "nbconvert_exporter": "python",
   "pygments_lexer": "ipython3",
   "version": "3.7.3"
  }
 },
 "nbformat": 4,
 "nbformat_minor": 2
}
