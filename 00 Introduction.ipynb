{
 "cells": [
  {
   "cell_type": "markdown",
   "metadata": {},
   "source": [
    "Welcome to a short course which will introduce you to some techniques and processes which are essential if you are going to be developing professional-quality software.\n",
    "\n",
    "For this course we will be focusing on three main topics:\n",
    "1. documentation\n",
    "2. testing\n",
    "3. licensing\n",
    "\n",
    "and discussing why they're important and how to integrate them into your code.\n",
    "\n",
    "For the purpose of this course we will be using a free tool called JupyterLab which provides you with a local editor in your web browser where you can write and run Python code. The easiest way to get access to JupyterLab is to [install the Anaconda Distribution](https://www.anaconda.com/distribution/) which is a piece of software which includes Python alson with lots of other tools. It is available for Windows, MacOS and Linux and is also available through the University of Bristol Software Centre.\n",
    "\n",
    "Once Anaconda is installed, start \"Anaconda Navigator\" and press the JupyterLab button on the main screen:\n",
    "\n",
    "![Anaconda Navigator](navigator.png \"Anaconda Navigator\")\n",
    "\n",
    "This will open JupyterLab in your default web browser and will look something like this:\n",
    "\n",
    "![JupyterLab](jupyterlab1.png \"JupyterLab\")\n",
    "\n",
    "The way that we will be setting up the space is to have a text editor on the left-hand side of the screen and a terminal on the right hand side. We'll use the editor to write our code and the terminal to run it.\n",
    "\n",
    "In the launcher tab, scoll down to the \"Text File\" entry and click that. It will turn the editor into a text editor. Then go to File → New and select \"Terminal\". It will now have two tabs niside the interface, one labelled \"untitled.txt\" and the other labelled \"Terminal 1\":\n",
    "\n",
    "![JupyterLab](jupyterlab2.png \"JupyterLab\")\n",
    "\n",
    "To make our lives easier, let's rearange things so that we can see the text editor at the same time as the terminal. Do this by pressing and holding down the left mouse button on the tab that says \"Terminal 1\" and slowly dragging it to the right-hand side of the window. You'll see a blue outline like this:\n",
    "\n",
    "![JupyterLab](jupyterlab3.png \"JupyterLab\")\n",
    "\n",
    "Release the mouse button and you'll end up with the two showing side-by-side:\n",
    "\n",
    "![JupyterLab](jupyterlab4.png \"JupyterLab\")\n",
    "\n",
    "Finally, we want to open a Python Console for doing some interactive exploration in. Open this by going to File → New → Console. When it asks you to select a \"kernel\", choose Python 3 which should be the default. Drag that tab so that it is overlapping with the \"Terminal 1\" pane. You should have it looking something like:\n",
    "\n",
    "![JupyterLab](jupyterlab5.png \"JupyterLab\")\n",
    "\n",
    "This layout is just a recomendation and if you'd rather do it differently, that's fine. Also if you're comfortable using an IDE like VS Code, PyCharm or Spyder then you're welcome to."
   ]
  }
 ],
 "metadata": {
  "kernelspec": {
   "display_name": "Python 3",
   "language": "python",
   "name": "python3"
  },
  "language_info": {
   "codemirror_mode": {
    "name": "ipython",
    "version": 3
   },
   "file_extension": ".py",
   "mimetype": "text/x-python",
   "name": "python",
   "nbconvert_exporter": "python",
   "pygments_lexer": "ipython3",
   "version": "3.7.3"
  }
 },
 "nbformat": 4,
 "nbformat_minor": 2
}
