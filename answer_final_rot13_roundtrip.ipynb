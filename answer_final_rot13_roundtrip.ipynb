{
 "cells": [
  {
   "cell_type": "code",
   "execution_count": 1,
   "metadata": {
    "scrolled": true,
    "tags": [
     "nbval-ignore-output"
    ]
   },
   "outputs": [
    {
     "name": "stdout",
     "output_type": "stream",
     "text": [
      "Overwriting morse.py\n"
     ]
    }
   ],
   "source": [
    "%%writefile morse.py\n",
    "\n",
    "# A lookup dictionary which, given a letter will return the morse code equivalent\n",
    "_letter_to_morse = {'a':'.-', 'b':'-...', 'c':'-.-.', 'd':'-..', 'e':'.', 'f':'..-.', \n",
    "                   'g':'--.', 'h':'....', 'i':'..', 'j':'.---', 'k':'-.-', 'l':'.-..', 'm':'--', \n",
    "                   'n':'-.', 'o':'---', 'p':'.--.', 'q':'--.-', 'r':'.-.', 's':'...', 't':'-',\n",
    "                   'u':'..-', 'v':'...-', 'w':'.--', 'x':'-..-', 'y':'-.--', 'z':'--..',\n",
    "                   '0':'-----', '1':'.----', '2':'..---', '3':'...--', '4':'....-',\n",
    "                   '5':'.....', '6':'-....', '7':'--...', '8':'---..', '9':'----.',\n",
    "                   ' ':'/'}\n",
    "\n",
    "# This will create a dictionary that can go from the morse back to the letter\n",
    "_morse_to_letter = {}\n",
    "for letter in _letter_to_morse:\n",
    "    morse = _letter_to_morse[letter]\n",
    "    _morse_to_letter[morse] = letter\n",
    "\n",
    "\n",
    "def encode(message):\n",
    "    \"\"\"\n",
    "    Encode a message from English to Morse Code\n",
    "    \n",
    "    Args:\n",
    "        message (str): the English message to encode\n",
    "    \n",
    "    Returns:\n",
    "        str: The encoded message\n",
    "    \n",
    "    Examples:\n",
    "        >>> encode(\"Help us\")\n",
    "        '.... . .-.. .--. / ..- ...'\n",
    "    \"\"\"\n",
    "    morse = []\n",
    "\n",
    "    for letter in message:\n",
    "        letter = letter.lower()\n",
    "        \n",
    "        if letter not in _letter_to_morse:\n",
    "            raise ValueError(f\"Cannot encode \\\"{message}\\\". Character \\\"{letter}\\\" not in Morse dictionary\")\n",
    "        \n",
    "        morse.append(_letter_to_morse[letter])\n",
    "\n",
    "    # We need to join together Morse code letters with spaces\n",
    "    morse_message = \" \".join(morse)\n",
    "    \n",
    "    return morse_message\n",
    "\n",
    "\n",
    "def decode(message):\n",
    "    \"\"\"\n",
    "    Decode a message from Morse Code to English\n",
    "    \n",
    "    Args:\n",
    "        message (str): the Morse Code message to decode\n",
    "    \n",
    "    Returns:\n",
    "        str: The decoded English message\n",
    "    \n",
    "    Examples:\n",
    "        >>> decode(\".... . .-.. .--. / ..- ...\")\n",
    "        'help us'\n",
    "    \"\"\"\n",
    "    english = []\n",
    "\n",
    "    # Now we cannot read by letter. We know that morse letters are\n",
    "    # separated by a space, so we split the morse string by spaces\n",
    "    morse_letters = message.split(\" \")\n",
    "\n",
    "    for letter in morse_letters:\n",
    "        english.append(_morse_to_letter[letter])\n",
    "\n",
    "    # Rejoin, but now we don't need to add any spaces\n",
    "    english_message = \"\".join(english)\n",
    "    \n",
    "    return english_message"
   ]
  },
  {
   "cell_type": "code",
   "execution_count": 2,
   "metadata": {
    "tags": [
     "nbval-ignore-output"
    ]
   },
   "outputs": [
    {
     "name": "stdout",
     "output_type": "stream",
     "text": [
      "Overwriting rot13.py\n"
     ]
    }
   ],
   "source": [
    "%%writefile rot13.py\n",
    "\n",
    "import string\n",
    "\n",
    "_lower_cipher = string.ascii_lowercase[13:] + string.ascii_lowercase[:13]\n",
    "_upper_cipher = string.ascii_uppercase[13:] + string.ascii_uppercase[:13]\n",
    "\n",
    "def encode(message):\n",
    "    \"\"\"\n",
    "    Encode a message from English to ROT13\n",
    "    \n",
    "    Args:\n",
    "        message (str): the English message to encode\n",
    "    \n",
    "    Returns:\n",
    "        str: The encoded message\n",
    "    \n",
    "    Examples:\n",
    "        >>> encode(\"Secretmessage\")\n",
    "        'Frpergzrffntr'\n",
    "    \"\"\"\n",
    "    output = []\n",
    "    for letter in message:\n",
    "        if letter in string.ascii_lowercase:\n",
    "            i = string.ascii_lowercase.find(letter)\n",
    "            output.append(_lower_cipher[i])\n",
    "        elif letter in string.ascii_uppercase:\n",
    "            i = string.ascii_uppercase.find(letter)\n",
    "            output.append(_upper_cipher[i])\n",
    "        else:  # Add this else statement\n",
    "            raise ValueError(f\"Cannot encode \\\"{message}\\\". Character \\\"{letter}\\\" not valid\")\n",
    "    \n",
    "    return \"\".join(output)\n",
    "\n",
    "\n",
    "def decode(message):\n",
    "    \"\"\"\n",
    "    Encode a message from ROT13 to English\n",
    "    \n",
    "    Args:\n",
    "        message (str): the ROT13 message to encode\n",
    "    \n",
    "    Returns:\n",
    "        str: The decoded message\n",
    "    \n",
    "    Examples:\n",
    "        >>> encode(\"Frpergzrffntr\")\n",
    "        'Secretmessage'\n",
    "    \"\"\"\n",
    "    output = []\n",
    "    for letter in message:\n",
    "        if letter in _lower_cipher:\n",
    "            i = _lower_cipher.find(letter)\n",
    "            output.append(string.ascii_lowercase[i])  # ascii_uppercase → ascii_lowercase\n",
    "        elif letter in _upper_cipher:\n",
    "            i = _upper_cipher.find(letter)\n",
    "            output.append(string.ascii_uppercase[i])\n",
    "        else:  # Add this else statement\n",
    "            raise ValueError(f\"Cannot decode \\\"{message}\\\". Character \\\"{letter}\\\" not valid\")\n",
    "    \n",
    "    return \"\".join(output)"
   ]
  },
  {
   "cell_type": "code",
   "execution_count": 3,
   "metadata": {
    "tags": [
     "nbval-ignore-output"
    ]
   },
   "outputs": [
    {
     "name": "stdout",
     "output_type": "stream",
     "text": [
      "Overwriting test_morse.py\n"
     ]
    }
   ],
   "source": [
    "%%writefile test_morse.py\n",
    "\n",
    "import pytest\n",
    "\n",
    "from morse import encode, decode\n",
    "\n",
    "@pytest.mark.parametrize(\"message\", [\n",
    "    \"sos\",\n",
    "    \"help us please\",\n",
    "    \"An Uppercase String\",\n",
    "])\n",
    "def test_roundtrip(message):\n",
    "    assert decode(encode(message)) == message"
   ]
  },
  {
   "cell_type": "code",
   "execution_count": 4,
   "metadata": {
    "tags": [
     "nbval-ignore-output"
    ]
   },
   "outputs": [
    {
     "name": "stdout",
     "output_type": "stream",
     "text": [
      "Overwriting test_rot13.py\n"
     ]
    }
   ],
   "source": [
    "%%writefile test_rot13.py\n",
    "\n",
    "import pytest\n",
    "\n",
    "from rot13 import encode, decode\n",
    "\n",
    "@pytest.mark.parametrize(\"message\", [\n",
    "    \"sos\",\n",
    "    \"helpusplease\",\n",
    "    \"AnUppercaseString\",\n",
    "])\n",
    "def test_roundtrip(message):\n",
    "    assert decode(encode(message)) == message"
   ]
  },
  {
   "cell_type": "code",
   "execution_count": 5,
   "metadata": {
    "tags": [
     "nbval-ignore-output"
    ]
   },
   "outputs": [
    {
     "name": "stdout",
     "output_type": "stream",
     "text": [
      "\u001b[1m=================== test session starts ====================\u001b[0m\n",
      "platform linux -- Python 3.8.5, pytest-6.0.1, py-1.9.0, pluggy-0.13.1 -- /usr/bin/python3\n",
      "cachedir: .pytest_cache\n",
      "rootdir: /home/matt/projects/courses/software_engineering_best_practices\n",
      "plugins: requests-mock-1.8.0\n",
      "collected 6 items                                          \u001b[0m\n",
      "\n",
      "test_morse.py::test_roundtrip[sos] \u001b[32mPASSED\u001b[0m\u001b[32m            [ 16%]\u001b[0m\n",
      "test_morse.py::test_roundtrip[help us please] \u001b[32mPASSED\u001b[0m\u001b[32m [ 33%]\u001b[0m\n",
      "test_morse.py::test_roundtrip[An Uppercase String] \u001b[31mFAILED\u001b[0m\u001b[31m [ 50%]\u001b[0m\n",
      "test_rot13.py::test_roundtrip[sos] \u001b[32mPASSED\u001b[0m\u001b[31m            [ 66%]\u001b[0m\n",
      "test_rot13.py::test_roundtrip[helpusplease] \u001b[32mPASSED\u001b[0m\u001b[31m   [ 83%]\u001b[0m\n",
      "test_rot13.py::test_roundtrip[AnUppercaseString] \u001b[32mPASSED\u001b[0m\u001b[31m [100%]\u001b[0m\n",
      "\n",
      "========================= FAILURES =========================\n",
      "\u001b[31m\u001b[1m___________ test_roundtrip[An Uppercase String] ____________\u001b[0m\n",
      "\n",
      "message = 'An Uppercase String'\n",
      "\n",
      "    \u001b[37m@pytest\u001b[39;49;00m.mark.parametrize(\u001b[33m\"\u001b[39;49;00m\u001b[33mmessage\u001b[39;49;00m\u001b[33m\"\u001b[39;49;00m, [\n",
      "        \u001b[33m\"\u001b[39;49;00m\u001b[33msos\u001b[39;49;00m\u001b[33m\"\u001b[39;49;00m,\n",
      "        \u001b[33m\"\u001b[39;49;00m\u001b[33mhelp us please\u001b[39;49;00m\u001b[33m\"\u001b[39;49;00m,\n",
      "        \u001b[33m\"\u001b[39;49;00m\u001b[33mAn Uppercase String\u001b[39;49;00m\u001b[33m\"\u001b[39;49;00m,\n",
      "    ])\n",
      "    \u001b[94mdef\u001b[39;49;00m \u001b[92mtest_roundtrip\u001b[39;49;00m(message):\n",
      ">       \u001b[94massert\u001b[39;49;00m decode(encode(message)) == message\n",
      "\u001b[1m\u001b[31mE       AssertionError: assert 'an uppercase string' == 'An Uppercase String'\u001b[0m\n",
      "\u001b[1m\u001b[31mE         - An Uppercase String\u001b[0m\n",
      "\u001b[1m\u001b[31mE         ? ^  ^         ^\u001b[0m\n",
      "\u001b[1m\u001b[31mE         + an uppercase string\u001b[0m\n",
      "\u001b[1m\u001b[31mE         ? ^  ^         ^\u001b[0m\n",
      "\n",
      "\u001b[1m\u001b[31mtest_morse.py\u001b[0m:12: AssertionError\n",
      "================= short test summary info ==================\n",
      "FAILED test_morse.py::test_roundtrip[An Uppercase String]\n",
      "\u001b[31m=============== \u001b[31m\u001b[1m1 failed\u001b[0m, \u001b[32m5 passed\u001b[0m\u001b[31m in 0.10s\u001b[0m\u001b[31m ================\u001b[0m\n"
     ]
    }
   ],
   "source": [
    "!COLUMNS=60 pytest -v morse.py rot13.py test_morse.py test_rot13.py"
   ]
  },
  {
   "cell_type": "markdown",
   "metadata": {},
   "source": [
    "The Morse Code converter does not maintain the case of the string. All messages passed into it will be converted to lower case. This means that a message like \"SOS\" will, after round-tripping be \"sos\". This means that in this case, the invariant of the round-trip is not that the messages are identical, but rather that they are \"identical if you ignore case\".\n",
    "\n",
    "To make our test do this, we can compare the round-tripped message against the lower case message with `message.lower()`:"
   ]
  },
  {
   "cell_type": "code",
   "execution_count": 6,
   "metadata": {
    "tags": [
     "nbval-ignore-output"
    ]
   },
   "outputs": [
    {
     "name": "stdout",
     "output_type": "stream",
     "text": [
      "Overwriting test_morse.py\n"
     ]
    }
   ],
   "source": [
    "%%writefile test_morse.py\n",
    "\n",
    "import pytest\n",
    "\n",
    "from morse import encode, decode\n",
    "\n",
    "@pytest.mark.parametrize(\"message\", [\n",
    "    \"sos\",\n",
    "    \"help us please\",\n",
    "    \"An Uppercase String\",\n",
    "])\n",
    "def test_roundtrip(message):\n",
    "    assert decode(encode(message)) == message.lower()  # This line has changed"
   ]
  },
  {
   "cell_type": "code",
   "execution_count": 7,
   "metadata": {
    "tags": [
     "nbval-ignore-output"
    ]
   },
   "outputs": [
    {
     "name": "stdout",
     "output_type": "stream",
     "text": [
      "\u001b[1m=================== test session starts ====================\u001b[0m\n",
      "platform linux -- Python 3.8.5, pytest-6.0.1, py-1.9.0, pluggy-0.13.1 -- /usr/bin/python3\n",
      "cachedir: .pytest_cache\n",
      "rootdir: /home/matt/projects/courses/software_engineering_best_practices\n",
      "plugins: requests-mock-1.8.0\n",
      "collected 6 items                                          \u001b[0m\n",
      "\n",
      "test_morse.py::test_roundtrip[sos] \u001b[32mPASSED\u001b[0m\u001b[32m            [ 16%]\u001b[0m\n",
      "test_morse.py::test_roundtrip[help us please] \u001b[32mPASSED\u001b[0m\u001b[32m [ 33%]\u001b[0m\n",
      "test_morse.py::test_roundtrip[An Uppercase String] \u001b[32mPASSED\u001b[0m\u001b[32m [ 50%]\u001b[0m\n",
      "test_rot13.py::test_roundtrip[sos] \u001b[32mPASSED\u001b[0m\u001b[32m            [ 66%]\u001b[0m\n",
      "test_rot13.py::test_roundtrip[helpusplease] \u001b[32mPASSED\u001b[0m\u001b[32m   [ 83%]\u001b[0m\n",
      "test_rot13.py::test_roundtrip[AnUppercaseString] \u001b[32mPASSED\u001b[0m\u001b[32m [100%]\u001b[0m\n",
      "\n",
      "\u001b[32m==================== \u001b[32m\u001b[1m6 passed\u001b[0m\u001b[32m in 0.02s\u001b[0m\u001b[32m =====================\u001b[0m\n"
     ]
    }
   ],
   "source": [
    "!COLUMNS=60 pytest -v morse.py rot13.py test_morse.py test_rot13.py"
   ]
  }
 ],
 "metadata": {
  "kernelspec": {
   "display_name": "Python 3",
   "language": "python",
   "name": "python3"
  },
  "language_info": {
   "codemirror_mode": {
    "name": "ipython",
    "version": 3
   },
   "file_extension": ".py",
   "mimetype": "text/x-python",
   "name": "python",
   "nbconvert_exporter": "python",
   "pygments_lexer": "ipython3",
   "version": "3.8.5"
  }
 },
 "nbformat": 4,
 "nbformat_minor": 4
}
