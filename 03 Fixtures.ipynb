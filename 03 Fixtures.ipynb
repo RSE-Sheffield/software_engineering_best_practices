{
 "cells": [
  {
   "cell_type": "markdown",
   "metadata": {},
   "source": [
    "# Input data for tests\n",
    "\n",
    "As we saw in the last section, when using parametrisation it's often useful to split your test function into two parts:\n",
    "1. The data to be tested\n",
    "2. The code to do the test\n",
    "\n",
    "This is because we had a situation where we had one test function and multiple examples to test. The opposite situation also happens where we have multiple test functions, all of which want the same input data.\n",
    "\n",
    "The name that pytest uses for \"data which is provided to test functions\" is *fixture* since it *fixes* a set of data against which to test.\n",
    "\n",
    "We'll start with the example of the `add_arrays` function to explain the syntax but soon we'll need to use a example which demonstates the benefits more.\n",
    "\n",
    "To make things clearer, we'll trim down the test file back to the basics. Just one test for `add_arrays` and one for `subtract_arrays`:"
   ]
  },
  {
   "cell_type": "code",
   "execution_count": 1,
   "metadata": {
    "tags": [
     "remove_cell",
     "nbval-skip"
    ]
   },
   "outputs": [
    {
     "name": "stdout",
     "output_type": "stream",
     "text": [
      "Overwriting arrays.py\n"
     ]
    }
   ],
   "source": [
    "%%writefile arrays.py\n",
    "\n",
    "\"\"\"\n",
    "This module contains functions for manipulating and combining Python lists.\n",
    "\"\"\"\n",
    "\n",
    "def add_arrays(x, y):\n",
    "    \"\"\"\n",
    "    This function adds together each element of the two passed lists.\n",
    "\n",
    "    Args:\n",
    "        x (list): The first list to add\n",
    "        y (list): The second list to add\n",
    "\n",
    "    Returns:\n",
    "        list: the pairwise sums of ``x`` and ``y``.\n",
    "\n",
    "    Examples:\n",
    "        >>> add_arrays([1, 4, 5], [4, 3, 5])\n",
    "        [5, 7, 10]\n",
    "    \"\"\"\n",
    "\n",
    "    if len(x) != len(y):\n",
    "        raise ValueError(\"Both arrays must have the same length.\")\n",
    "\n",
    "    z = []\n",
    "    for x_, y_ in zip(x, y):\n",
    "        z.append(x_ + y_)\n",
    "\n",
    "    return z\n",
    "\n",
    "def subtract_arrays(x, y):\n",
    "    \"\"\"\n",
    "    This function subtracts from each other each element of the two passed lists.\n",
    "\n",
    "    Args:\n",
    "        x (list): The first list\n",
    "        y (list): The second list\n",
    "\n",
    "    Returns:\n",
    "        list: the pairwise difference of ``x`` and ``y``.\n",
    "\n",
    "    Examples:\n",
    "        >>> subtract_arrays([1, 4, 5], [4, 3, 5])\n",
    "        [-3, 1, 0]\n",
    "    \"\"\"\n",
    "\n",
    "    if len(x) != len(y):\n",
    "        raise ValueError(\"Both arrays must have the same length.\")\n",
    "\n",
    "    z = []\n",
    "    for x_, y_ in zip(x, y):\n",
    "        z.append(x_ - y_)\n",
    "\n",
    "    return z"
   ]
  },
  {
   "cell_type": "code",
   "execution_count": 2,
   "metadata": {
    "tags": [
     "nbval-skip"
    ]
   },
   "outputs": [
    {
     "name": "stdout",
     "output_type": "stream",
     "text": [
      "Overwriting test_arrays.py\n"
     ]
    }
   ],
   "source": [
    "%%writefile test_arrays.py\n",
    "\n",
    "from arrays import add_arrays, subtract_arrays\n",
    "\n",
    "def test_add_arrays():\n",
    "    a = [1, 2, 3]\n",
    "    b = [4, 5, 6]\n",
    "    expect = [5, 7, 9]\n",
    "    \n",
    "    output = add_arrays(a, b)\n",
    "    \n",
    "    assert output == expect\n",
    "\n",
    "def test_subtract_arrays():\n",
    "    a = [1, 2, 3]\n",
    "    b = [4, 5, 6]\n",
    "    expect = [-3, -3, -3]\n",
    "    \n",
    "    output = subtract_arrays(a, b)\n",
    "    \n",
    "    assert output == expect"
   ]
  },
  {
   "cell_type": "markdown",
   "metadata": {},
   "source": [
    "Both of these tests use the same values for `a` and `b`. In this example it's not really a big problem that we're repeating ourselves but in a more complex test suite the data we're testing over may be very complicated or slow to create.\n",
    "\n",
    "To avoid repeating ourselves, we will create a fixture which will provide the data to our tests. To create our fixture we define a function which is decorated with the `pytest.fixture` decorator. Apart from that, all the function needs do is return the data we want to provide to our tests, in this case, the two input lists:\n",
    "\n",
    "```python\n",
    "import pytest\n",
    "\n",
    "@pytest.fixture\n",
    "def pair_of_lists():\n",
    "    return [1, 2, 3], [4, 5, 6]\n",
    "```\n",
    "\n",
    "To make the test functions make use of the fixture, we use the name of the fixture (`pair_of_lists`) as a parameter of the test function, similar to how we did with parametrisation:\n",
    "\n",
    "```python\n",
    "def test_add_arrays(pair_of_lists):\n",
    "    ...\n",
    "```\n",
    "\n",
    "The data is now available inside the function using that name and we can use it however we wish:\n",
    "\n",
    "```python\n",
    "def test_add_arrays(pair_of_lists):\n",
    "    a, b = pair_of_lists\n",
    "    ...\n",
    "```\n",
    "\n",
    "This isn't how functions and arguments usually work in Python. pytest is doing something magic here and is matching up the names of things which it knows are fixtures (due to the decorator) with the names of parameters to test functions, automatically running the fixture and passing in the data.\n",
    "\n",
    "Note that `pair_of_lists` here is not a test function. It does not contain any `assert`s and will not appear in the `pytest` output.\n",
    "\n",
    "Putting it all together, we end up with:"
   ]
  },
  {
   "cell_type": "code",
   "execution_count": 3,
   "metadata": {
    "scrolled": true,
    "tags": [
     "nbval-skip"
    ]
   },
   "outputs": [
    {
     "name": "stdout",
     "output_type": "stream",
     "text": [
      "Overwriting test_arrays.py\n"
     ]
    }
   ],
   "source": [
    "%%writefile test_arrays.py\n",
    "\n",
    "import pytest\n",
    "\n",
    "from arrays import add_arrays, subtract_arrays\n",
    "\n",
    "@pytest.fixture\n",
    "def pair_of_lists():\n",
    "    return [1, 2, 3], [4, 5, 6]\n",
    "\n",
    "def test_add_arrays(pair_of_lists):\n",
    "    a, b = pair_of_lists\n",
    "    expect = [5, 7, 9]\n",
    "    \n",
    "    output = add_arrays(a, b)\n",
    "    \n",
    "    assert output == expect\n",
    "\n",
    "def test_subtract_arrays(pair_of_lists):\n",
    "    a, b = pair_of_lists\n",
    "    expect = [-3, -3, -3]\n",
    "    \n",
    "    output = subtract_arrays(a, b)\n",
    "    \n",
    "    assert output == expect"
   ]
  },
  {
   "cell_type": "markdown",
   "metadata": {},
   "source": [
    "When we run the test suite, pytest will automatically run the `pair_of_lists` function for each test and pass in the result."
   ]
  },
  {
   "cell_type": "code",
   "execution_count": 4,
   "metadata": {
    "tags": [
     "nbval-skip"
    ]
   },
   "outputs": [
    {
     "name": "stdout",
     "output_type": "stream",
     "text": [
      "\u001b[1m=================== test session starts ====================\u001b[0m\n",
      "platform linux -- Python 3.7.3, pytest-5.2.2, py-1.8.0, pluggy-0.13.0 -- /home/matt/projects/software_engineering_best_practices/venv/bin/python3\n",
      "cachedir: .pytest_cache\n",
      "rootdir: /home/matt/projects/software_engineering_best_practices\n",
      "plugins: nbval-0.9.3\n",
      "collected 2 items                                          \u001b[0m\n",
      "\n",
      "test_arrays.py::test_add_arrays \u001b[32mPASSED\u001b[0m\u001b[36m               [ 50%]\u001b[0m\n",
      "test_arrays.py::test_subtract_arrays \u001b[32mPASSED\u001b[0m\u001b[36m          [100%]\u001b[0m\n",
      "\n",
      "\u001b[32m\u001b[1m==================== 2 passed in 0.03s =====================\u001b[0m\n"
     ]
    }
   ],
   "source": [
    "!COLUMNS=60 venv/bin/pytest -v"
   ]
  },
  {
   "cell_type": "markdown",
   "metadata": {},
   "source": [
    "## A different example\n",
    "\n",
    "It might be hard to see the benefit of fixtures with this rather contrived example so lets take a look at a more sensible one where using a fixture makes sense.\n",
    "\n",
    "Make a new file called `books.py` which contains the following:"
   ]
  },
  {
   "cell_type": "code",
   "execution_count": 5,
   "metadata": {
    "tags": [
     "nbval-skip"
    ]
   },
   "outputs": [
    {
     "name": "stdout",
     "output_type": "stream",
     "text": [
      "Writing books.py\n"
     ]
    }
   ],
   "source": [
    "%%writefile books.py\n",
    "\n",
    "def word_count(text, word=''):\n",
    "    \"\"\"\n",
    "    Count the number of occurences of ``word`` in a string.\n",
    "    If ``word`` is not set, count all words.\n",
    "    \"\"\"\n",
    "    if word:\n",
    "        count = 0\n",
    "        for text_word in text.split():\n",
    "            if text_word == word:\n",
    "                count += 1\n",
    "        return count\n",
    "    else:\n",
    "        return len(text.split())"
   ]
  },
  {
   "cell_type": "markdown",
   "metadata": {},
   "source": [
    "To test this function we want a corpus of text to test it on. For the purposes of this example and to simulate a complex data input, we will download the contents of a long book from Project Gutenberg. Our test function uses [`urllib.request`](https://docs.python.org/3/library/urllib.request.html) to download the text, converts it to a string and passes that to the `word_count` function.\n",
    "\n",
    "At first we will simply check that the word \"hat\" appears 33 times in the book:"
   ]
  },
  {
   "cell_type": "code",
   "execution_count": 6,
   "metadata": {
    "tags": [
     "nbval-skip"
    ]
   },
   "outputs": [
    {
     "name": "stdout",
     "output_type": "stream",
     "text": [
      "Writing test_books.py\n"
     ]
    }
   ],
   "source": [
    "%%writefile test_books.py\n",
    "\n",
    "import urllib.request\n",
    "\n",
    "from books import word_count\n",
    "\n",
    "def test_word_counts():\n",
    "    url = \"https://www.gutenberg.org/files/2600/2600-0.txt\"\n",
    "    book_text = urllib.request.urlopen(url).read().decode('utf-8')\n",
    "    assert word_count(book_text, \"hat\") == 33"
   ]
  },
  {
   "cell_type": "code",
   "execution_count": 7,
   "metadata": {
    "scrolled": false,
    "tags": [
     "nbval-skip"
    ]
   },
   "outputs": [
    {
     "name": "stdout",
     "output_type": "stream",
     "text": [
      "\u001b[1m=================== test session starts ====================\u001b[0m\n",
      "platform linux -- Python 3.7.3, pytest-5.2.2, py-1.8.0, pluggy-0.13.0 -- /home/matt/projects/software_engineering_best_practices/venv/bin/python3\n",
      "cachedir: .pytest_cache\n",
      "rootdir: /home/matt/projects/software_engineering_best_practices\n",
      "plugins: nbval-0.9.3\n",
      "collected 1 item                                           \u001b[0m\n",
      "\n",
      "test_books.py::test_word_counts \u001b[32mPASSED\u001b[0m\u001b[36m               [100%]\u001b[0m\n",
      "\n",
      "\u001b[32m\u001b[1m==================== 1 passed in 2.32s =====================\u001b[0m\n"
     ]
    }
   ],
   "source": [
    "!COLUMNS=60 venv/bin/pytest -v test_books.py"
   ]
  },
  {
   "cell_type": "markdown",
   "metadata": {},
   "source": [
    "The test has passed and it took about two seconds. This is because it's taking some time to download the file from the internet. For this example we *want* it to take some time as it helps demonstrate the point. In reality you will come across test data inputs which take some time (more than a few milliseconds) to create.\n",
    "\n",
    "This crete a tension between wanting to have a large test suite which covers your code from lots of different angles and being able to run it very quickly and easily. An ideal test suite will run as quickly as possible as it will encourage you to run it more often. It's a good idea to have at least a subset of your tsts which run through in some number of seconds rather than hours.\n",
    "\n",
    "Two seconds is not bad for this test but if we want to test against multiple examples, it could get slow. Let's parametrise the test to add in a bunch more inputs:"
   ]
  },
  {
   "cell_type": "code",
   "execution_count": 8,
   "metadata": {
    "tags": [
     "nbval-skip"
    ]
   },
   "outputs": [
    {
     "name": "stdout",
     "output_type": "stream",
     "text": [
      "Overwriting test_books.py\n"
     ]
    }
   ],
   "source": [
    "%%writefile test_books.py\n",
    "\n",
    "import urllib.request\n",
    "\n",
    "import pytest\n",
    "\n",
    "from books import word_count\n",
    "\n",
    "@pytest.mark.parametrize('word, count',  [\n",
    "    ('hat', 33),\n",
    "    ('freedom', 71),\n",
    "    ('electricity', 1),\n",
    "    ('testing', 3),\n",
    "    ('Prince', 1498),\n",
    "    ('internet', 0),\n",
    "    ('Russia', 71),\n",
    "    ('Pierre', 1260),\n",
    "    (None, 566311),\n",
    "])\n",
    "def test_word_counts(word, count):\n",
    "    url = \"https://www.gutenberg.org/files/2600/2600-0.txt\"\n",
    "    book_text = urllib.request.urlopen(url).read().decode('utf-8')\n",
    "    assert word_count(book_text, word) == count"
   ]
  },
  {
   "cell_type": "code",
   "execution_count": 9,
   "metadata": {
    "tags": [
     "nbval-skip"
    ]
   },
   "outputs": [
    {
     "name": "stdout",
     "output_type": "stream",
     "text": [
      "\u001b[1m=================== test session starts ====================\u001b[0m\n",
      "platform linux -- Python 3.7.3, pytest-5.2.2, py-1.8.0, pluggy-0.13.0 -- /home/matt/projects/software_engineering_best_practices/venv/bin/python3\n",
      "cachedir: .pytest_cache\n",
      "rootdir: /home/matt/projects/software_engineering_best_practices\n",
      "plugins: nbval-0.9.3\n",
      "collected 9 items                                          \u001b[0m\n",
      "\n",
      "test_books.py::test_word_counts[hat-33] \u001b[32mPASSED\u001b[0m\u001b[36m       [ 11%]\u001b[0m\n",
      "test_books.py::test_word_counts[freedom-71] \u001b[32mPASSED\u001b[0m\u001b[36m   [ 22%]\u001b[0m\n",
      "test_books.py::test_word_counts[electricity-1] \u001b[32mPASSED\u001b[0m\u001b[36m [ 33%]\u001b[0m\n",
      "test_books.py::test_word_counts[testing-3] \u001b[32mPASSED\u001b[0m\u001b[36m    [ 44%]\u001b[0m\n",
      "test_books.py::test_word_counts[Prince-1498] \u001b[32mPASSED\u001b[0m\u001b[36m  [ 55%]\u001b[0m\n",
      "test_books.py::test_word_counts[internet-0] \u001b[32mPASSED\u001b[0m\u001b[36m   [ 66%]\u001b[0m\n",
      "test_books.py::test_word_counts[Russia-71] \u001b[32mPASSED\u001b[0m\u001b[36m    [ 77%]\u001b[0m\n",
      "test_books.py::test_word_counts[Pierre-1260] \u001b[32mPASSED\u001b[0m\u001b[36m  [ 88%]\u001b[0m\n",
      "test_books.py::test_word_counts[None-566311] \u001b[32mPASSED\u001b[0m\u001b[36m  [100%]\u001b[0m\n",
      "\n",
      "\u001b[32m\u001b[1m==================== 9 passed in 24.30s ====================\u001b[0m\n"
     ]
    }
   ],
   "source": [
    "!COLUMNS=60 venv/bin/pytest -v test_books.py"
   ]
  },
  {
   "cell_type": "markdown",
   "metadata": {},
   "source": [
    "You see here that it took about nine times as long. This is because the file is downloaded afresh for every test example where really, it only *needs* to be downloaded once.\n",
    "\n",
    "Let's move the slow setup into a fixture and give that as a parameter of the test function:"
   ]
  },
  {
   "cell_type": "code",
   "execution_count": 10,
   "metadata": {
    "tags": [
     "nbval-skip"
    ]
   },
   "outputs": [
    {
     "name": "stdout",
     "output_type": "stream",
     "text": [
      "Overwriting test_books.py\n"
     ]
    }
   ],
   "source": [
    "%%writefile test_books.py\n",
    "\n",
    "import urllib.request\n",
    "\n",
    "import pytest\n",
    "\n",
    "from books import word_count\n",
    "\n",
    "@pytest.fixture()\n",
    "def long_book():\n",
    "    url = \"https://www.gutenberg.org/files/2600/2600-0.txt\"\n",
    "    book_text = urllib.request.urlopen(url).read().decode('utf-8')\n",
    "    return book_text\n",
    "\n",
    "@pytest.mark.parametrize('word, count',  [\n",
    "    ('hat', 33),\n",
    "    ('freedom', 71),\n",
    "    ('electricity', 1),\n",
    "    ('testing', 3),\n",
    "    ('Prince', 1498),\n",
    "    ('internet', 0),\n",
    "    ('Russia', 71),\n",
    "    ('Pierre', 1260),\n",
    "    (None, 566311),\n",
    "])\n",
    "def test_word_counts(long_book, word, count):\n",
    "    assert word_count(long_book, word) == count"
   ]
  },
  {
   "cell_type": "code",
   "execution_count": 11,
   "metadata": {
    "tags": [
     "nbval-skip"
    ]
   },
   "outputs": [
    {
     "name": "stdout",
     "output_type": "stream",
     "text": [
      "\u001b[1m=================== test session starts ====================\u001b[0m\n",
      "platform linux -- Python 3.7.3, pytest-5.2.2, py-1.8.0, pluggy-0.13.0 -- /home/matt/projects/software_engineering_best_practices/venv/bin/python3\n",
      "cachedir: .pytest_cache\n",
      "rootdir: /home/matt/projects/software_engineering_best_practices\n",
      "plugins: nbval-0.9.3\n",
      "collected 9 items                                          \u001b[0m\n",
      "\n",
      "test_books.py::test_word_counts[hat-33] \u001b[32mPASSED\u001b[0m\u001b[36m       [ 11%]\u001b[0m\n",
      "test_books.py::test_word_counts[freedom-71] \u001b[32mPASSED\u001b[0m\u001b[36m   [ 22%]\u001b[0m\n",
      "test_books.py::test_word_counts[electricity-1] \u001b[32mPASSED\u001b[0m\u001b[36m [ 33%]\u001b[0m\n",
      "test_books.py::test_word_counts[testing-3] \u001b[32mPASSED\u001b[0m\u001b[36m    [ 44%]\u001b[0m\n",
      "test_books.py::test_word_counts[Prince-1498] \u001b[32mPASSED\u001b[0m\u001b[36m  [ 55%]\u001b[0m\n",
      "test_books.py::test_word_counts[internet-0] \u001b[32mPASSED\u001b[0m\u001b[36m   [ 66%]\u001b[0m\n",
      "test_books.py::test_word_counts[Russia-71] \u001b[32mPASSED\u001b[0m\u001b[36m    [ 77%]\u001b[0m\n",
      "test_books.py::test_word_counts[Pierre-1260] \u001b[32mPASSED\u001b[0m\u001b[36m  [ 88%]\u001b[0m\n",
      "test_books.py::test_word_counts[None-566311] \u001b[32mPASSED\u001b[0m\u001b[36m  [100%]\u001b[0m\n",
      "\n",
      "\u001b[32m\u001b[1m==================== 9 passed in 24.42s ====================\u001b[0m\n"
     ]
    }
   ],
   "source": [
    "!COLUMNS=60 venv/bin/pytest -v test_books.py"
   ]
  },
  {
   "cell_type": "markdown",
   "metadata": {},
   "source": [
    "Perhaps surprisingly, it is still taking very long time!\n",
    "\n",
    "By default a fixture will run once for every test function that uses it. In our case we only need it to run once for all the tests in the test session so we can pass in the `scope` parameter to `pytest.fixture` and set it to `session`:"
   ]
  },
  {
   "cell_type": "code",
   "execution_count": 12,
   "metadata": {
    "tags": [
     "nbval-skip"
    ]
   },
   "outputs": [
    {
     "name": "stdout",
     "output_type": "stream",
     "text": [
      "Overwriting test_books.py\n"
     ]
    }
   ],
   "source": [
    "%%writefile test_books.py\n",
    "\n",
    "import urllib.request\n",
    "\n",
    "import pytest\n",
    "\n",
    "from books import word_count\n",
    "\n",
    "@pytest.fixture(scope=\"session\")\n",
    "def long_book():\n",
    "    url = \"https://www.gutenberg.org/files/2600/2600-0.txt\"\n",
    "    book_text = urllib.request.urlopen(url).read().decode('utf-8')\n",
    "    return book_text\n",
    "\n",
    "@pytest.mark.parametrize('word, count',  [\n",
    "    ('hat', 33),\n",
    "    ('freedom', 71),\n",
    "    ('electricity', 1),\n",
    "    ('testing', 3),\n",
    "    ('Prince', 1498),\n",
    "    ('internet', 0),\n",
    "    ('Russia', 71),\n",
    "    ('Pierre', 1260),\n",
    "    (None, 566311),\n",
    "])\n",
    "def test_word_counts(long_book, word, count):\n",
    "    assert word_count(long_book, word) == count"
   ]
  },
  {
   "cell_type": "code",
   "execution_count": 13,
   "metadata": {
    "tags": [
     "nbval-skip"
    ]
   },
   "outputs": [
    {
     "name": "stdout",
     "output_type": "stream",
     "text": [
      "\u001b[1m=================== test session starts ====================\u001b[0m\n",
      "platform linux -- Python 3.7.3, pytest-5.2.2, py-1.8.0, pluggy-0.13.0 -- /home/matt/projects/software_engineering_best_practices/venv/bin/python3\n",
      "cachedir: .pytest_cache\n",
      "rootdir: /home/matt/projects/software_engineering_best_practices\n",
      "plugins: nbval-0.9.3\n",
      "collected 9 items                                          \u001b[0m\n",
      "\n",
      "test_books.py::test_word_counts[hat-33] \u001b[32mPASSED\u001b[0m\u001b[36m       [ 11%]\u001b[0m\n",
      "test_books.py::test_word_counts[freedom-71] \u001b[32mPASSED\u001b[0m\u001b[36m   [ 22%]\u001b[0m\n",
      "test_books.py::test_word_counts[electricity-1] \u001b[32mPASSED\u001b[0m\u001b[36m [ 33%]\u001b[0m\n",
      "test_books.py::test_word_counts[testing-3] \u001b[32mPASSED\u001b[0m\u001b[36m    [ 44%]\u001b[0m\n",
      "test_books.py::test_word_counts[Prince-1498] \u001b[32mPASSED\u001b[0m\u001b[36m  [ 55%]\u001b[0m\n",
      "test_books.py::test_word_counts[internet-0] \u001b[32mPASSED\u001b[0m\u001b[36m   [ 66%]\u001b[0m\n",
      "test_books.py::test_word_counts[Russia-71] \u001b[32mPASSED\u001b[0m\u001b[36m    [ 77%]\u001b[0m\n",
      "test_books.py::test_word_counts[Pierre-1260] \u001b[32mPASSED\u001b[0m\u001b[36m  [ 88%]\u001b[0m\n",
      "test_books.py::test_word_counts[None-566311] \u001b[32mPASSED\u001b[0m\u001b[36m  [100%]\u001b[0m\n",
      "\n",
      "\u001b[32m\u001b[1m==================== 9 passed in 3.45s =====================\u001b[0m\n"
     ]
    }
   ],
   "source": [
    "!COLUMNS=60 venv/bin/pytest -v test_books.py"
   ]
  },
  {
   "cell_type": "markdown",
   "metadata": {},
   "source": [
    "Now it only takes about as long as a single test did since the slow part is only being done once."
   ]
  },
  {
   "cell_type": "markdown",
   "metadata": {
    "tags": [
     "exercise"
    ]
   },
   "source": [
    "### Exercise\n",
    "\n",
    "Add some more parameters to the test and check that it doesn't take any longer to run"
   ]
  }
 ],
 "metadata": {
  "celltoolbar": "Tags",
  "kernelspec": {
   "display_name": "Python 3",
   "language": "python",
   "name": "python3"
  },
  "language_info": {
   "codemirror_mode": {
    "name": "ipython",
    "version": 3
   },
   "file_extension": ".py",
   "mimetype": "text/x-python",
   "name": "python",
   "nbconvert_exporter": "python",
   "pygments_lexer": "ipython3",
   "version": "3.7.3"
  }
 },
 "nbformat": 4,
 "nbformat_minor": 2
}
