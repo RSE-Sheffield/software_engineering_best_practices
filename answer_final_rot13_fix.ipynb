{
 "cells": [
  {
   "cell_type": "code",
   "execution_count": 1,
   "metadata": {
    "scrolled": true,
    "tags": [
     "nbval-skip"
    ]
   },
   "outputs": [
    {
     "name": "stdout",
     "output_type": "stream",
     "text": [
      "Writing rot13.py\n"
     ]
    }
   ],
   "source": [
    "%%writefile rot13.py\n",
    "\n",
    "import string\n",
    "\n",
    "_lower_cipher = string.ascii_lowercase[13:] + string.ascii_lowercase[:13]\n",
    "_upper_cipher = string.ascii_uppercase[13:] + string.ascii_uppercase[:13]\n",
    "\n",
    "def encode(message):\n",
    "    \"\"\"\n",
    "    Encode a message from English to ROT13\n",
    "    \n",
    "    Args:\n",
    "        message (str): the English message to encode\n",
    "    \n",
    "    Returns:\n",
    "        str: The encoded message\n",
    "    \n",
    "    Examples:\n",
    "        >>> encode(\"Secretmessage\")\n",
    "        'Frpergzrffntr'\n",
    "    \"\"\"\n",
    "    output = []\n",
    "    for letter in message:\n",
    "        if letter in string.ascii_lowercase:\n",
    "            i = string.ascii_lowercase.find(letter)\n",
    "            output.append(_lower_cipher[i])\n",
    "        elif letter in string.ascii_uppercase:\n",
    "            i = string.ascii_uppercase.find(letter)\n",
    "            output.append(_upper_cipher[i])\n",
    "        else:  # Add this else statement\n",
    "            raise ValueError(f\"Cannot encode \\\"{message}\\\". Character \\\"{letter}\\\" not valid\")\n",
    "    \n",
    "    return \"\".join(output)\n",
    "\n",
    "\n",
    "def decode(message):\n",
    "    \"\"\"\n",
    "    Encode a message from ROT13 to English\n",
    "    \n",
    "    Args:\n",
    "        message (str): the ROT13 message to encode\n",
    "    \n",
    "    Returns:\n",
    "        str: The decoded message\n",
    "    \n",
    "    Examples:\n",
    "        >>> encode(\"Frpergzrffntr\")\n",
    "        'Secretmessage'\n",
    "    \"\"\"\n",
    "    output = []\n",
    "    for letter in message:\n",
    "        if letter in _lower_cipher:\n",
    "            i = _lower_cipher.find(letter)\n",
    "            output.append(string.ascii_lowercase[i])  # ascii_uppercase → ascii_lowercase\n",
    "        elif letter in _upper_cipher:\n",
    "            i = _upper_cipher.find(letter)\n",
    "            output.append(string.ascii_uppercase[i])\n",
    "        else:  # Add this else statement\n",
    "            raise ValueError(f\"Cannot decode \\\"{message}\\\". Character \\\"{letter}\\\" not valid\")\n",
    "    \n",
    "    return \"\".join(output)"
   ]
  },
  {
   "cell_type": "code",
   "execution_count": 2,
   "metadata": {},
   "outputs": [
    {
     "name": "stdout",
     "output_type": "stream",
     "text": [
      "Writing test_rot13.py\n"
     ]
    }
   ],
   "source": [
    "%%writefile test_rot13.py\n",
    "\n",
    "import pytest\n",
    "\n",
    "from rot13 import encode, decode\n",
    "\n",
    "@pytest.mark.parametrize(\"message, expected\", [\n",
    "    (\"SECRET\", \"FRPERG\"),\n",
    "    (\"secret\", \"frperg\"),\n",
    "])\n",
    "def test_encode(message, expected):\n",
    "    assert encode(message) == expected\n",
    "\n",
    "@pytest.mark.parametrize(\"message, expected\", [\n",
    "    (\"FRPERG\", \"SECRET\"),\n",
    "    (\"frperg\", \"secret\"),\n",
    "])\n",
    "def test_decode(message, expected):\n",
    "    assert decode(message) == expected\n",
    "\n",
    "def test_encode_spaces_error():\n",
    "    with pytest.raises(ValueError):\n",
    "        encode(\"Secret message for you\")"
   ]
  },
  {
   "cell_type": "code",
   "execution_count": 3,
   "metadata": {},
   "outputs": [
    {
     "name": "stdout",
     "output_type": "stream",
     "text": [
      "\u001b[1m=================== test session starts ====================\u001b[0m\n",
      "platform linux -- Python 3.7.3, pytest-5.2.1, py-1.8.0, pluggy-0.13.0 -- /home/matt/courses/software_engineering_best_practices/venv/bin/python3\n",
      "cachedir: .pytest_cache\n",
      "rootdir: /home/matt/courses/software_engineering_best_practices\n",
      "plugins: nbval-0.9.3\n",
      "collected 15 items                                         \u001b[0m\n",
      "\n",
      "morse.py::morse.decode \u001b[32mPASSED\u001b[0m\u001b[36m                        [  6%]\u001b[0m\n",
      "morse.py::morse.encode \u001b[32mPASSED\u001b[0m\u001b[36m                        [ 13%]\u001b[0m\n",
      "rot13.py::rot13.decode \u001b[32mPASSED\u001b[0m\u001b[36m                        [ 20%]\u001b[0m\n",
      "rot13.py::rot13.encode \u001b[32mPASSED\u001b[0m\u001b[36m                        [ 26%]\u001b[0m\n",
      "test_morse.py::test_encode \u001b[32mPASSED\u001b[0m\u001b[36m                    [ 33%]\u001b[0m\n",
      "test_morse.py::test_error \u001b[32mPASSED\u001b[0m\u001b[36m                     [ 40%]\u001b[0m\n",
      "test_morse.py::test_errors[It's sinking] \u001b[32mPASSED\u001b[0m\u001b[36m      [ 46%]\u001b[0m\n",
      "test_morse.py::test_errors[Titanic & Olympic] \u001b[32mPASSED\u001b[0m\u001b[36m [ 53%]\u001b[0m\n",
      "test_morse.py::test_errors[This boat is expensive \\xa3\\xa3\\xa3] \u001b[32mPASSED\u001b[0m\u001b[36m [ 60%]\u001b[0m\n",
      "test_morse.py::test_errors[Help!] \u001b[32mPASSED\u001b[0m\u001b[36m             [ 66%]\u001b[0m\n",
      "test_rot13.py::test_encode[SECRET-FRPERG] \u001b[32mPASSED\u001b[0m\u001b[36m     [ 73%]\u001b[0m\n",
      "test_rot13.py::test_encode[secret-frperg] \u001b[32mPASSED\u001b[0m\u001b[36m     [ 80%]\u001b[0m\n",
      "test_rot13.py::test_decode[FRPERG-SECRET] \u001b[32mPASSED\u001b[0m\u001b[36m     [ 86%]\u001b[0m\n",
      "test_rot13.py::test_decode[frperg-secret] \u001b[32mPASSED\u001b[0m\u001b[36m     [ 93%]\u001b[0m\n",
      "test_rot13.py::test_encode_spaces_error \u001b[32mPASSED\u001b[0m\u001b[36m       [100%]\u001b[0m\n",
      "\n",
      "\u001b[33m===================== warnings summary =====================\u001b[0m\n",
      "venv/lib64/python3.7/site-packages/jinja2/utils.py:485\n",
      "  /home/matt/courses/software_engineering_best_practices/venv/lib64/python3.7/site-packages/jinja2/utils.py:485: DeprecationWarning: Using or importing the ABCs from 'collections' instead of from 'collections.abc' is deprecated, and in 3.8 it will stop working\n",
      "    from collections import MutableMapping\n",
      "\n",
      "-- Docs: https://docs.pytest.org/en/latest/warnings.html\n",
      "\u001b[33m\u001b[1m============== 15 passed, 1 warnings in 0.52s ==============\u001b[0m\n"
     ]
    }
   ],
   "source": [
    "!COLUMNS=60 venv/bin/pytest -v --doctest-modules"
   ]
  }
 ],
 "metadata": {
  "kernelspec": {
   "display_name": "Python 3",
   "language": "python",
   "name": "python3"
  },
  "language_info": {
   "codemirror_mode": {
    "name": "ipython",
    "version": 3
   },
   "file_extension": ".py",
   "mimetype": "text/x-python",
   "name": "python",
   "nbconvert_exporter": "python",
   "pygments_lexer": "ipython3",
   "version": "3.7.3"
  }
 },
 "nbformat": 4,
 "nbformat_minor": 2
}
