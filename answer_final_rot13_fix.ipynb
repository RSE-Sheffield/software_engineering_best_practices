{
 "cells": [
  {
   "cell_type": "code",
   "execution_count": 1,
   "metadata": {
    "scrolled": true,
    "tags": [
     "nbval-ignore-output"
    ]
   },
   "outputs": [
    {
     "name": "stdout",
     "output_type": "stream",
     "text": [
      "Overwriting rot13.py\n"
     ]
    }
   ],
   "source": [
    "%%writefile rot13.py\n",
    "\n",
    "import string\n",
    "\n",
    "_lower_cipher = string.ascii_lowercase[13:] + string.ascii_lowercase[:13]\n",
    "_upper_cipher = string.ascii_uppercase[13:] + string.ascii_uppercase[:13]\n",
    "\n",
    "def encode(message):\n",
    "    \"\"\"\n",
    "    Encode a message from English to ROT13\n",
    "    \n",
    "    Args:\n",
    "        message (str): the English message to encode\n",
    "    \n",
    "    Returns:\n",
    "        str: The encoded message\n",
    "    \n",
    "    Examples:\n",
    "        >>> encode(\"Secretmessage\")\n",
    "        'Frpergzrffntr'\n",
    "    \"\"\"\n",
    "    output = []\n",
    "    for letter in message:\n",
    "        if letter in string.ascii_lowercase:\n",
    "            i = string.ascii_lowercase.find(letter)\n",
    "            output.append(_lower_cipher[i])\n",
    "        elif letter in string.ascii_uppercase:\n",
    "            i = string.ascii_uppercase.find(letter)\n",
    "            output.append(_upper_cipher[i])\n",
    "        else:  # Add this else statement\n",
    "            raise ValueError(f\"Cannot encode \\\"{message}\\\". Character \\\"{letter}\\\" not valid\")\n",
    "    \n",
    "    return \"\".join(output)\n",
    "\n",
    "\n",
    "def decode(message):\n",
    "    \"\"\"\n",
    "    Encode a message from ROT13 to English\n",
    "    \n",
    "    Args:\n",
    "        message (str): the ROT13 message to encode\n",
    "    \n",
    "    Returns:\n",
    "        str: The decoded message\n",
    "    \n",
    "    Examples:\n",
    "        >>> encode(\"Frpergzrffntr\")\n",
    "        'Secretmessage'\n",
    "    \"\"\"\n",
    "    output = []\n",
    "    for letter in message:\n",
    "        if letter in _lower_cipher:\n",
    "            i = _lower_cipher.find(letter)\n",
    "            output.append(string.ascii_lowercase[i])  # ascii_uppercase → ascii_lowercase\n",
    "        elif letter in _upper_cipher:\n",
    "            i = _upper_cipher.find(letter)\n",
    "            output.append(string.ascii_uppercase[i])\n",
    "        else:  # Add this else statement\n",
    "            raise ValueError(f\"Cannot decode \\\"{message}\\\". Character \\\"{letter}\\\" not valid\")\n",
    "    \n",
    "    return \"\".join(output)\n",
    "\n",
    "    # An alternate \"clever\" solution is to exploit the fact that rot13 is its own inverse\n",
    "    # and simply call the encode function again. The entirety of this function would then\n",
    "    # just become:\n",
    "    #\n",
    "    # return encode(message)"
   ]
  },
  {
   "cell_type": "code",
   "execution_count": 2,
   "metadata": {
    "tags": [
     "nbval-ignore-output"
    ]
   },
   "outputs": [
    {
     "name": "stdout",
     "output_type": "stream",
     "text": [
      "Overwriting test_rot13.py\n"
     ]
    }
   ],
   "source": [
    "%%writefile test_rot13.py\n",
    "\n",
    "import pytest\n",
    "\n",
    "from rot13 import encode, decode\n",
    "\n",
    "@pytest.mark.parametrize(\"message, expected\", [\n",
    "    (\"SECRET\", \"FRPERG\"),\n",
    "    (\"secret\", \"frperg\"),\n",
    "])\n",
    "def test_encode(message, expected):\n",
    "    assert encode(message) == expected\n",
    "\n",
    "@pytest.mark.parametrize(\"message, expected\", [\n",
    "    (\"FRPERG\", \"SECRET\"),\n",
    "    (\"frperg\", \"secret\"),\n",
    "])\n",
    "def test_decode(message, expected):\n",
    "    assert decode(message) == expected\n",
    "\n",
    "def test_encode_spaces_error():\n",
    "    with pytest.raises(ValueError):\n",
    "        encode(\"Secret message for you\")"
   ]
  },
  {
   "cell_type": "code",
   "execution_count": 3,
   "metadata": {
    "tags": [
     "nbval-ignore-output"
    ]
   },
   "outputs": [
    {
     "name": "stdout",
     "output_type": "stream",
     "text": [
      "\u001b[1m=================== test session starts ====================\u001b[0m\n",
      "platform linux -- Python 3.8.5, pytest-6.0.1, py-1.9.0, pluggy-0.13.1 -- /usr/bin/python3\n",
      "cachedir: .pytest_cache\n",
      "rootdir: /home/matt/projects/courses/software_engineering_best_practices\n",
      "plugins: requests-mock-1.8.0\n",
      "collected 21 items                                         \u001b[0m\n",
      "\n",
      "morse.py::morse.decode \u001b[32mPASSED\u001b[0m\u001b[32m                        [  4%]\u001b[0m\n",
      "morse.py::morse.encode \u001b[32mPASSED\u001b[0m\u001b[32m                        [  9%]\u001b[0m\n",
      "rot13.py::rot13.decode \u001b[32mPASSED\u001b[0m\u001b[32m                        [ 14%]\u001b[0m\n",
      "rot13.py::rot13.encode \u001b[32mPASSED\u001b[0m\u001b[32m                        [ 19%]\u001b[0m\n",
      "test_morse.py::test_encode[SOS-... --- ...] \u001b[32mPASSED\u001b[0m\u001b[32m   [ 23%]\u001b[0m\n",
      "test_morse.py::test_encode[help-.... . .-.. .--.] \u001b[32mPASSED\u001b[0m\u001b[32m [ 28%]\u001b[0m\n",
      "test_morse.py::test_encode[-] \u001b[32mPASSED\u001b[0m\u001b[32m                 [ 33%]\u001b[0m\n",
      "test_morse.py::test_encode[ -/] \u001b[32mPASSED\u001b[0m\u001b[32m               [ 38%]\u001b[0m\n",
      "test_morse.py::test_decode[... --- ...-sos] \u001b[32mPASSED\u001b[0m\u001b[32m   [ 42%]\u001b[0m\n",
      "test_morse.py::test_decode[.... . .-.. .--.-help] \u001b[32mPASSED\u001b[0m\u001b[32m [ 47%]\u001b[0m\n",
      "test_morse.py::test_decode[/- ] \u001b[32mPASSED\u001b[0m\u001b[32m               [ 52%]\u001b[0m\n",
      "test_morse.py::test_error \u001b[32mPASSED\u001b[0m\u001b[32m                     [ 57%]\u001b[0m\n",
      "test_morse.py::test_errors[It's sinking] \u001b[32mPASSED\u001b[0m\u001b[32m      [ 61%]\u001b[0m\n",
      "test_morse.py::test_errors[Titanic & Olympic] \u001b[32mPASSED\u001b[0m\u001b[32m [ 66%]\u001b[0m\n",
      "test_morse.py::test_errors[This boat is expensive \\xa3\\xa3\\xa3] \u001b[32mPASSED\u001b[0m\u001b[32m [ 71%]\u001b[0m\n",
      "test_morse.py::test_errors[Help!] \u001b[32mPASSED\u001b[0m\u001b[32m             [ 76%]\u001b[0m\n",
      "test_rot13.py::test_encode[SECRET-FRPERG] \u001b[32mPASSED\u001b[0m\u001b[32m     [ 80%]\u001b[0m\n",
      "test_rot13.py::test_encode[secret-frperg] \u001b[32mPASSED\u001b[0m\u001b[32m     [ 85%]\u001b[0m\n",
      "test_rot13.py::test_decode[FRPERG-SECRET] \u001b[32mPASSED\u001b[0m\u001b[32m     [ 90%]\u001b[0m\n",
      "test_rot13.py::test_decode[frperg-secret] \u001b[32mPASSED\u001b[0m\u001b[32m     [ 95%]\u001b[0m\n",
      "test_rot13.py::test_encode_spaces_error \u001b[32mPASSED\u001b[0m\u001b[32m       [100%]\u001b[0m\n",
      "\n",
      "\u001b[32m==================== \u001b[32m\u001b[1m21 passed\u001b[0m\u001b[32m in 0.06s\u001b[0m\u001b[32m ====================\u001b[0m\n"
     ]
    }
   ],
   "source": [
    "!COLUMNS=60 pytest -v --doctest-modules morse.py rot13.py test_morse.py test_rot13.py"
   ]
  }
 ],
 "metadata": {
  "kernelspec": {
   "display_name": "Python 3",
   "language": "python",
   "name": "python3"
  },
  "language_info": {
   "codemirror_mode": {
    "name": "ipython",
    "version": 3
   },
   "file_extension": ".py",
   "mimetype": "text/x-python",
   "name": "python",
   "nbconvert_exporter": "python",
   "pygments_lexer": "ipython3",
   "version": "3.8.5"
  }
 },
 "nbformat": 4,
 "nbformat_minor": 4
}
