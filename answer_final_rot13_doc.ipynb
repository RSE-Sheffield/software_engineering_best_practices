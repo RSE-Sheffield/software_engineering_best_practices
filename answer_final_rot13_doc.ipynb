{
 "cells": [
  {
   "cell_type": "code",
   "execution_count": 1,
   "metadata": {
    "scrolled": true,
    "tags": [
     "nbval-skip"
    ]
   },
   "outputs": [
    {
     "name": "stdout",
     "output_type": "stream",
     "text": [
      "Writing morse.py\n"
     ]
    }
   ],
   "source": [
    "%%writefile rot13.py\n",
    "\n",
    "import string\n",
    "\n",
    "_lower_cipher = string.ascii_lowercase[13:] + string.ascii_lowercase[:13]\n",
    "_upper_cipher = string.ascii_uppercase[13:] + string.ascii_uppercase[:13]\n",
    "\n",
    "def encode(message):\n",
    "    \"\"\"\n",
    "    Encode a message from English to ROT13\n",
    "    \n",
    "    Args:\n",
    "        message (str): the English message to encode\n",
    "    \n",
    "    Returns:\n",
    "        str: The encoded message\n",
    "    \n",
    "    Examples:\n",
    "        >>> encode(\"Secretmessage\")\n",
    "        'Frpergzrffntr'\n",
    "    \"\"\"\n",
    "    output = []\n",
    "    for letter in message:\n",
    "        if letter in string.ascii_lowercase:\n",
    "            i = string.ascii_lowercase.find(letter)\n",
    "            output.append(_lower_cipher[i])\n",
    "        elif letter in string.ascii_uppercase:\n",
    "            i = string.ascii_uppercase.find(letter)\n",
    "            output.append(_upper_cipher[i])\n",
    "    \n",
    "    return \"\".join(output)\n",
    "\n",
    "\n",
    "def decode(message):\n",
    "    \"\"\"\n",
    "    Encode a message from ROT13 to English\n",
    "    \n",
    "    Args:\n",
    "        message (str): the ROT13 message to encode\n",
    "    \n",
    "    Returns:\n",
    "        str: The decoded message\n",
    "    \n",
    "    Examples:\n",
    "        >>> encode(\"Frpergzrffntr\")\n",
    "        'Secretmessage'\n",
    "    \"\"\"\n",
    "    output = []\n",
    "    for letter in message:\n",
    "        if letter in _lower_cipher:\n",
    "            i = _lower_cipher.find(letter)\n",
    "            output.append(string.ascii_uppercase[i])\n",
    "        elif letter in _upper_cipher:\n",
    "            i = _upper_cipher.find(letter)\n",
    "            output.append(string.ascii_uppercase[i])\n",
    "    \n",
    "    return \"\".join(output)"
   ]
  }
 ],
 "metadata": {
  "kernelspec": {
   "display_name": "Python 3",
   "language": "python",
   "name": "python3"
  },
  "language_info": {
   "codemirror_mode": {
    "name": "ipython",
    "version": 3
   },
   "file_extension": ".py",
   "mimetype": "text/x-python",
   "name": "python",
   "nbconvert_exporter": "python",
   "pygments_lexer": "ipython3",
   "version": "3.7.3"
  }
 },
 "nbformat": 4,
 "nbformat_minor": 2
}
