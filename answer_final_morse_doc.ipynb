{
 "cells": [
  {
   "cell_type": "code",
   "execution_count": 1,
   "metadata": {
    "scrolled": true
   },
   "outputs": [
    {
     "name": "stdout",
     "output_type": "stream",
     "text": [
      "Writing morse.py\n"
     ]
    }
   ],
   "source": [
    "%%writefile morse.py\n",
    "\n",
    "# A lookup dictionary which, given a letter will return the morse code equivalent\n",
    "_letter_to_morse = {'a':'.-', 'b':'-...', 'c':'-.-.', 'd':'-..', 'e':'.', 'f':'..-.', \n",
    "                   'g':'--.', 'h':'....', 'i':'..', 'j':'.---', 'k':'-.-', 'l':'.-..', 'm':'--', \n",
    "                   'n':'-.', 'o':'---', 'p':'.--.', 'q':'--.-', 'r':'.-.', 's':'...', 't':'-',\n",
    "                   'u':'..-', 'v':'...-', 'w':'.--', 'x':'-..-', 'y':'-.--', 'z':'--..',\n",
    "                   '0':'-----', '1':'.----', '2':'..---', '3':'...--', '4':'....-',\n",
    "                   '5':'.....', '6':'-....', '7':'--...', '8':'---..', '9':'----.',\n",
    "                   ' ':'/'}\n",
    "\n",
    "# This will create a dictionary that can go from the morse back to the letter\n",
    "_morse_to_letter = {}\n",
    "for letter in _letter_to_morse:\n",
    "    morse = _letter_to_morse[letter]\n",
    "    _morse_to_letter[morse] = letter\n",
    "\n",
    "\n",
    "def encode(message):\n",
    "    \"\"\"\n",
    "    Encode a message from English to Morse Code\n",
    "    \n",
    "    Args:\n",
    "        message (str): the English message to encode\n",
    "    \n",
    "    Returns:\n",
    "        str: The encoded message\n",
    "    \n",
    "    Examples:\n",
    "        >>> encode(\"Help us\")\n",
    "        \".... . .-.. .--. / ..- ...\"\n",
    "    \"\"\"\n",
    "    morse = []\n",
    "\n",
    "    for letter in message:\n",
    "        letter = letter.lower()\n",
    "        morse.append(_letter_to_morse[letter])\n",
    "\n",
    "    # We need to join together Morse code letters with spaces\n",
    "    morse_message = \" \".join(morse)\n",
    "    \n",
    "    return morse_message\n",
    "\n",
    "\n",
    "def decode(message):\n",
    "    \"\"\"\n",
    "    Decode a message from Morse Code to English\n",
    "    \n",
    "    Args:\n",
    "        message (str): the Morse Code message to decode\n",
    "    \n",
    "    Returns:\n",
    "        str: The decoded English message\n",
    "    \n",
    "    Examples:\n",
    "        >>> encode(\".... . .-.. .--. / ..- ...\")\n",
    "        \"help us\"\n",
    "    \"\"\"\n",
    "    english = []\n",
    "\n",
    "    # Now we cannot read by letter. We know that morse letters are\n",
    "    # separated by a space, so we split the morse string by spaces\n",
    "    morse_letters = message.split(\" \")\n",
    "\n",
    "    for letter in morse_letters:\n",
    "        english.append(_morse_to_letter[letter])\n",
    "\n",
    "    # Rejoin, but now we don't need to add any spaces\n",
    "    english_message = \"\".join(english)\n",
    "    \n",
    "    return english_message"
   ]
  }
 ],
 "metadata": {
  "kernelspec": {
   "display_name": "Python 3",
   "language": "python",
   "name": "python3"
  },
  "language_info": {
   "codemirror_mode": {
    "name": "ipython",
    "version": 3
   },
   "file_extension": ".py",
   "mimetype": "text/x-python",
   "name": "python",
   "nbconvert_exporter": "python",
   "pygments_lexer": "ipython3",
   "version": "3.8.5"
  }
 },
 "nbformat": 4,
 "nbformat_minor": 4
}
