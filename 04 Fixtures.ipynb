{
 "cells": [
  {
   "cell_type": "markdown",
   "source": [
    "# Input data for tests\n",
    "\n",
    "As we saw in the last section, when using parametrisation it's often useful to split your test function into two logical parts:\n",
    "1. The data to be tested\n",
    "2. The code to do the test\n",
    "\n",
    "This is because we had a situation where we had one test function and multiple examples to test. The opposite situation also happens where we have multiple test functions, all of which want the same input data.\n",
    "\n",
    "The name that pytest uses for \"data which are provided to test functions\" is *fixture* since it *fixes* a set of data against which to test.\n",
    "\n",
    "We'll start with the example of the `add_arrays` function to explain the syntax but soon we'll need to use a example which demonstates the benefits more.\n",
    "\n",
    "To make things clearer, we'll trim down the test file back to the basics. Just one test for `add_arrays`:"
   ],
   "metadata": {}
  },
  {
   "cell_type": "code",
   "execution_count": null,
   "source": [
    "%%writefile arrays.py\r\n",
    "\r\n",
    "\"\"\"\r\n",
    "This module contains functions for manipulating and combining Python lists.\r\n",
    "\"\"\"\r\n",
    "\r\n",
    "def add_arrays(x, y):\r\n",
    "    \"\"\"\r\n",
    "    This function adds together each element of the two passed lists.\r\n",
    "\r\n",
    "    Args:\r\n",
    "        x (list): The first list to add\r\n",
    "        y (list): The second list to add\r\n",
    "\r\n",
    "    Returns:\r\n",
    "        list: the pairwise sums of ``x`` and ``y``.\r\n",
    "\r\n",
    "    Examples:\r\n",
    "        >>> add_arrays([1, 4, 5], [4, 3, 5])\r\n",
    "        [5, 7, 10]\r\n",
    "    \"\"\"\r\n",
    "\r\n",
    "    if len(x) != len(y):\r\n",
    "        raise ValueError(\"Both arrays must have the same length.\")\r\n",
    "\r\n",
    "    z = []\r\n",
    "    for x_, y_ in zip(x, y):\r\n",
    "        z.append(x_ + y_)\r\n",
    "\r\n",
    "    return z"
   ],
   "outputs": [],
   "metadata": {
    "tags": [
     "remove_cell"
    ]
   }
  },
  {
   "cell_type": "code",
   "execution_count": 2,
   "source": [
    "%%writefile test_arrays.py\r\n",
    "\r\n",
    "from arrays import add_arrays\r\n",
    "\r\n",
    "def test_add_arrays():\r\n",
    "    a = [1, 2, 3]\r\n",
    "    b = [4, 5, 6]\r\n",
    "    expect = [5, 7, 9]\r\n",
    "    \r\n",
    "    output = add_arrays(a, b)\r\n",
    "    \r\n",
    "    assert output == expect"
   ],
   "outputs": [
    {
     "output_type": "stream",
     "name": "stdout",
     "text": [
      "Overwriting test_arrays.py\n"
     ]
    }
   ],
   "metadata": {}
  },
  {
   "cell_type": "markdown",
   "source": [
    "To create our fixture we define a function which is decorated with the `pytest.fixture` decorator. Apart from that, all the function needs to do is return the data we want to provide to our tests, in this case, the two input lists:\n",
    "\n",
    "```python\n",
    "import pytest\n",
    "\n",
    "@pytest.fixture\n",
    "def pair_of_lists():\n",
    "    return [1, 2, 3], [4, 5, 6]\n",
    "```\n",
    "\n",
    "To make the test functions make use of the fixture, we use the name of the fixture (`pair_of_lists`) as a parameter of the test function, similar to how we did with parametrisation:\n",
    "\n",
    "```python\n",
    "def test_add_arrays(pair_of_lists):\n",
    "    ...\n",
    "```\n",
    "\n",
    "The data are now available inside the function using that name and we can use it however we wish:\n",
    "\n",
    "```python\n",
    "def test_add_arrays(pair_of_lists):\n",
    "    a, b = pair_of_lists\n",
    "    ...\n",
    "```\n",
    "\n",
    "This isn't how functions and arguments usually work in Python. pytest is doing something magic here and is matching up the names of things which it knows are fixtures (due to the decorator) with the names of parameters to test functions, automatically running the fixture and passing in the data.\n",
    "\n",
    "Note that `pair_of_lists` here is not a test function. It does not contain any `assert`s and will not  explicitly appear in the `pytest` output.\n",
    "\n",
    "Putting it all together, we end up with:"
   ],
   "metadata": {}
  },
  {
   "cell_type": "code",
   "execution_count": 3,
   "source": [
    "%%writefile test_arrays.py\r\n",
    "\r\n",
    "import pytest\r\n",
    "\r\n",
    "from arrays import add_arrays\r\n",
    "\r\n",
    "@pytest.fixture\r\n",
    "def pair_of_lists():\r\n",
    "    return [1, 2, 3], [4, 5, 6]\r\n",
    "\r\n",
    "def test_add_arrays(pair_of_lists):\r\n",
    "    a, b = pair_of_lists\r\n",
    "    expect = [5, 7, 9]\r\n",
    "    \r\n",
    "    output = add_arrays(a, b)\r\n",
    "    \r\n",
    "    assert output == expect"
   ],
   "outputs": [
    {
     "output_type": "stream",
     "name": "stdout",
     "text": [
      "Overwriting test_arrays.py\n"
     ]
    }
   ],
   "metadata": {
    "scrolled": true
   }
  },
  {
   "cell_type": "markdown",
   "source": [
    "When we run the test suite, pytest will automatically run the `pair_of_lists` function for any test that has it as an input and pass in the result."
   ],
   "metadata": {}
  },
  {
   "cell_type": "code",
   "execution_count": 4,
   "source": [
    "!COLUMNS=60 pytest -v test_arrays.py"
   ],
   "outputs": [
    {
     "output_type": "stream",
     "name": "stdout",
     "text": [
      "\u001b[1m=================== test session starts ====================\u001b[0m\n",
      "platform linux -- Python 3.8.5, pytest-6.0.1, py-1.9.0, pluggy-0.13.1 -- /usr/bin/python3\n",
      "cachedir: .pytest_cache\n",
      "rootdir: /home/matt/projects/courses/software_engineering_best_practices\n",
      "plugins: attrib-0.1.3, requests-mock-1.8.0, cov-2.10.1\n",
      "collected 1 item                                           \u001b[0m\n",
      "\n",
      "test_arrays.py::test_add_arrays \u001b[32mPASSED\u001b[0m\u001b[32m               [100%]\u001b[0m\n",
      "\n",
      "\u001b[32m==================== \u001b[32m\u001b[1m1 passed\u001b[0m\u001b[32m in 0.01s\u001b[0m\u001b[32m =====================\u001b[0m\n"
     ]
    }
   ],
   "metadata": {}
  },
  {
   "cell_type": "markdown",
   "source": [
    "## A different example\n",
    "\n",
    "It might be hard to see the benefit of fixtures with this rather contrived example in which there aren't repeated uses of the same input data. So lets take a look at a more sensible one where using a fixture makes sense.\n",
    "\n",
    "Make a new file called `books.py` which contains the following:"
   ],
   "metadata": {}
  },
  {
   "cell_type": "code",
   "execution_count": 5,
   "source": [
    "%%writefile books.py\r\n",
    "\r\n",
    "def word_count(text, word=''):\r\n",
    "    \"\"\"\r\n",
    "    Count the number of occurences of ``word`` in a string.\r\n",
    "    If ``word`` is not set, count all words.\r\n",
    "    \r\n",
    "    Args:\r\n",
    "        text (str): the text corpus to search through\r\n",
    "        word (str): the word to count instances of\r\n",
    "\r\n",
    "    Returns:\r\n",
    "        int: the count of ``word`` in ``text``\r\n",
    "    \"\"\"\r\n",
    "    if word:\r\n",
    "        count = 0\r\n",
    "        for text_word in text.split():\r\n",
    "            if text_word == word:\r\n",
    "                count += 1\r\n",
    "        return count\r\n",
    "    else:\r\n",
    "        return len(text.split())"
   ],
   "outputs": [
    {
     "output_type": "stream",
     "name": "stdout",
     "text": [
      "Writing books.py\n"
     ]
    }
   ],
   "metadata": {}
  },
  {
   "cell_type": "markdown",
   "source": [
    "To test this function we want a corpus of text to test it on. For the purposes of this example and to simulate a complex data input, we will download the contents of a particularly long novel from Project Gutenberg. Our test function uses [`urllib.request`](https://docs.python.org/3/library/urllib.request.html) to download the text, converts it to a string and passes that to the `word_count` function.\n",
    "\n",
    "At first we will simply check that the word \"hat\" appears 33 times in the book:"
   ],
   "metadata": {}
  },
  {
   "cell_type": "code",
   "execution_count": 6,
   "source": [
    "%%writefile test_books.py\n",
    "\n",
    "import urllib.request\n",
    "\n",
    "from books import word_count\n",
    "\n",
    "def test_word_counts():\n",
    "    url = \"https://www.gutenberg.org/files/2600/2600-0.txt\"\n",
    "    book_text = urllib.request.urlopen(url).read().decode('utf-8')\n",
    "    assert word_count(book_text, \"hat\") == 33"
   ],
   "outputs": [
    {
     "output_type": "stream",
     "name": "stdout",
     "text": [
      "Overwriting test_books.py\n"
     ]
    }
   ],
   "metadata": {}
  },
  {
   "cell_type": "code",
   "execution_count": 7,
   "source": [
    "!COLUMNS=60 pytest -v test_books.py"
   ],
   "outputs": [
    {
     "output_type": "stream",
     "name": "stdout",
     "text": [
      "\u001b[1m=================== test session starts ====================\u001b[0m\n",
      "platform linux -- Python 3.8.5, pytest-6.0.1, py-1.9.0, pluggy-0.13.1 -- /usr/bin/python3\n",
      "cachedir: .pytest_cache\n",
      "rootdir: /home/matt/projects/courses/software_engineering_best_practices\n",
      "plugins: attrib-0.1.3, requests-mock-1.8.0, cov-2.10.1\n",
      "collected 1 item                                           \u001b[0m\n",
      "\n",
      "test_books.py::test_word_counts \u001b[32mPASSED\u001b[0m\u001b[32m               [100%]\u001b[0m\n",
      "\n",
      "\u001b[32m==================== \u001b[32m\u001b[1m1 passed\u001b[0m\u001b[32m in 2.77s\u001b[0m\u001b[32m =====================\u001b[0m\n"
     ]
    }
   ],
   "metadata": {}
  },
  {
   "cell_type": "markdown",
   "source": [
    "The test has passed and it took about two seconds. This is because it takes some time to download the file from the internet. For this example we *want* it to take some time as it helps demonstrate the point. In reality you will come across test data inputs which take some time (more than a few milliseconds) to create.\n",
    "\n",
    "This creates a tension between wanting to have a large test suite which covers your code from lots of different angles and being able to run it very quickly and easily. An ideal test suite will run as quickly as possible as it will encourage you to run it more often. It's a good idea to have at least a subset of your tests which run through in some number of seconds rather than hours.\n",
    "\n",
    "Two seconds is not bad for this test but if we want to test against multiple examples, it could get slow. Let's parametrise the test to add in a bunch more inputs:"
   ],
   "metadata": {}
  },
  {
   "cell_type": "code",
   "execution_count": 8,
   "source": [
    "%%writefile test_books.py\r\n",
    "\r\n",
    "import urllib.request\r\n",
    "\r\n",
    "import pytest\r\n",
    "\r\n",
    "from books import word_count\r\n",
    "\r\n",
    "@pytest.mark.parametrize('word, count',  [\r\n",
    "    ('hat', 33),\r\n",
    "    ('freedom', 71),\r\n",
    "    ('electricity', 1),\r\n",
    "    ('testing', 3),\r\n",
    "    ('Prince', 1499),\r\n",
    "    ('internet', 0),\r\n",
    "    ('Russia', 71),\r\n",
    "    ('Pierre', 1260),\r\n",
    "    (None, 566334),\r\n",
    "])\r\n",
    "def test_word_counts(word, count):\r\n",
    "    url = \"https://www.gutenberg.org/files/2600/2600-0.txt\"\r\n",
    "    book_text = urllib.request.urlopen(url).read().decode('utf-8')\r\n",
    "    assert word_count(book_text, word) == count"
   ],
   "outputs": [
    {
     "output_type": "stream",
     "name": "stdout",
     "text": [
      "Overwriting test_books.py\n"
     ]
    }
   ],
   "metadata": {}
  },
  {
   "cell_type": "code",
   "execution_count": 9,
   "source": [
    "!COLUMNS=60 pytest -v test_books.py"
   ],
   "outputs": [
    {
     "output_type": "stream",
     "name": "stdout",
     "text": [
      "\u001b[1m=================== test session starts ====================\u001b[0m\n",
      "platform linux -- Python 3.8.5, pytest-6.0.1, py-1.9.0, pluggy-0.13.1 -- /usr/bin/python3\n",
      "cachedir: .pytest_cache\n",
      "rootdir: /home/matt/projects/courses/software_engineering_best_practices\n",
      "plugins: attrib-0.1.3, requests-mock-1.8.0, cov-2.10.1\n",
      "collected 9 items                                          \u001b[0m\n",
      "\n",
      "test_books.py::test_word_counts[hat-33] \u001b[32mPASSED\u001b[0m\u001b[32m       [ 11%]\u001b[0m\n",
      "test_books.py::test_word_counts[freedom-71] \u001b[32mPASSED\u001b[0m\u001b[32m   [ 22%]\u001b[0m\n",
      "test_books.py::test_word_counts[electricity-1] \u001b[32mPASSED\u001b[0m\u001b[32m [ 33%]\u001b[0m\n",
      "test_books.py::test_word_counts[testing-3] \u001b[32mPASSED\u001b[0m\u001b[32m    [ 44%]\u001b[0m\n",
      "test_books.py::test_word_counts[Prince-1499] \u001b[32mPASSED\u001b[0m\u001b[32m  [ 55%]\u001b[0m\n",
      "test_books.py::test_word_counts[internet-0] \u001b[32mPASSED\u001b[0m\u001b[32m   [ 66%]\u001b[0m\n",
      "test_books.py::test_word_counts[Russia-71] \u001b[32mPASSED\u001b[0m\u001b[32m    [ 77%]\u001b[0m\n",
      "test_books.py::test_word_counts[Pierre-1260] \u001b[32mPASSED\u001b[0m\u001b[32m  [ 88%]\u001b[0m\n",
      "test_books.py::test_word_counts[None-566317] \u001b[32mPASSED\u001b[0m\u001b[32m  [100%]\u001b[0m\n",
      "\n",
      "\u001b[32m==================== \u001b[32m\u001b[1m9 passed\u001b[0m\u001b[32m in 27.46s\u001b[0m\u001b[32m ====================\u001b[0m\n"
     ]
    }
   ],
   "metadata": {}
  },
  {
   "cell_type": "markdown",
   "source": [
    "You see here that it took about nine times as long. This is because the file is downloaded afresh for every test example where really, it only *needs* to be downloaded once.\n",
    "\n",
    "Let's move the slow setup into a fixture and give that as a parameter of the test function:"
   ],
   "metadata": {}
  },
  {
   "cell_type": "code",
   "execution_count": 10,
   "source": [
    "%%writefile test_books.py\r\n",
    "\r\n",
    "import urllib.request\r\n",
    "\r\n",
    "import pytest\r\n",
    "\r\n",
    "from books import word_count\r\n",
    "\r\n",
    "@pytest.fixture()\r\n",
    "def long_book():\r\n",
    "    url = \"https://www.gutenberg.org/files/2600/2600-0.txt\"\r\n",
    "    book_text = urllib.request.urlopen(url).read().decode('utf-8')\r\n",
    "    return book_text\r\n",
    "\r\n",
    "@pytest.mark.parametrize('word, count',  [\r\n",
    "    ('hat', 33),\r\n",
    "    ('freedom', 71),\r\n",
    "    ('electricity', 1),\r\n",
    "    ('testing', 3),\r\n",
    "    ('Prince', 1499),\r\n",
    "    ('internet', 0),\r\n",
    "    ('Russia', 71),\r\n",
    "    ('Pierre', 1260),\r\n",
    "    (None, 566334),\r\n",
    "])\r\n",
    "def test_word_counts(long_book, word, count):\r\n",
    "    assert word_count(long_book, word) == count"
   ],
   "outputs": [
    {
     "output_type": "stream",
     "name": "stdout",
     "text": [
      "Overwriting test_books.py\n"
     ]
    }
   ],
   "metadata": {}
  },
  {
   "cell_type": "code",
   "execution_count": 11,
   "source": [
    "!COLUMNS=60 pytest -v test_books.py"
   ],
   "outputs": [
    {
     "output_type": "stream",
     "name": "stdout",
     "text": [
      "\u001b[1m=================== test session starts ====================\u001b[0m\n",
      "platform linux -- Python 3.8.5, pytest-6.0.1, py-1.9.0, pluggy-0.13.1 -- /usr/bin/python3\n",
      "cachedir: .pytest_cache\n",
      "rootdir: /home/matt/projects/courses/software_engineering_best_practices\n",
      "plugins: attrib-0.1.3, requests-mock-1.8.0, cov-2.10.1\n",
      "collected 9 items                                          \u001b[0m\n",
      "\n",
      "test_books.py::test_word_counts[hat-33] \u001b[32mPASSED\u001b[0m\u001b[32m       [ 11%]\u001b[0m\n",
      "test_books.py::test_word_counts[freedom-71] \u001b[32mPASSED\u001b[0m\u001b[32m   [ 22%]\u001b[0m\n",
      "test_books.py::test_word_counts[electricity-1] \u001b[32mPASSED\u001b[0m\u001b[32m [ 33%]\u001b[0m\n",
      "test_books.py::test_word_counts[testing-3] \u001b[32mPASSED\u001b[0m\u001b[32m    [ 44%]\u001b[0m\n",
      "test_books.py::test_word_counts[Prince-1499] \u001b[32mPASSED\u001b[0m\u001b[32m  [ 55%]\u001b[0m\n",
      "test_books.py::test_word_counts[internet-0] \u001b[32mPASSED\u001b[0m\u001b[32m   [ 66%]\u001b[0m\n",
      "test_books.py::test_word_counts[Russia-71] \u001b[32mPASSED\u001b[0m\u001b[32m    [ 77%]\u001b[0m\n",
      "test_books.py::test_word_counts[Pierre-1260] \u001b[32mPASSED\u001b[0m\u001b[32m  [ 88%]\u001b[0m\n",
      "test_books.py::test_word_counts[None-566317] \u001b[32mPASSED\u001b[0m\u001b[32m  [100%]\u001b[0m\n",
      "\n",
      "\u001b[32m==================== \u001b[32m\u001b[1m9 passed\u001b[0m\u001b[32m in 30.57s\u001b[0m\u001b[32m ====================\u001b[0m\n"
     ]
    }
   ],
   "metadata": {}
  },
  {
   "cell_type": "markdown",
   "source": [
    "Perhaps surprisingly, it is still taking very long time!\n",
    "\n",
    "By default a fixture will run once for every test function that uses it. In our case we only need it to run once for all the tests in the test session so we can pass in the `scope` parameter to `pytest.fixture` and set it to `session`:"
   ],
   "metadata": {}
  },
  {
   "cell_type": "code",
   "execution_count": 12,
   "source": [
    "%%writefile test_books.py\r\n",
    "\r\n",
    "import urllib.request\r\n",
    "\r\n",
    "import pytest\r\n",
    "\r\n",
    "from books import word_count\r\n",
    "\r\n",
    "@pytest.fixture(scope=\"session\")\r\n",
    "def long_book():\r\n",
    "    url = \"https://www.gutenberg.org/files/2600/2600-0.txt\"\r\n",
    "    book_text = urllib.request.urlopen(url).read().decode('utf-8')\r\n",
    "    return book_text\r\n",
    "\r\n",
    "@pytest.mark.parametrize('word, count',  [\r\n",
    "    ('hat', 33),\r\n",
    "    ('freedom', 71),\r\n",
    "    ('electricity', 1),\r\n",
    "    ('testing', 3),\r\n",
    "    ('Prince', 1499),\r\n",
    "    ('internet', 0),\r\n",
    "    ('Russia', 71),\r\n",
    "    ('Pierre', 1260),\r\n",
    "    (None, 566317),\r\n",
    "])\r\n",
    "def test_word_counts(long_book, word, count):\r\n",
    "    assert word_count(long_book, word) == count"
   ],
   "outputs": [
    {
     "output_type": "stream",
     "name": "stdout",
     "text": [
      "Overwriting test_books.py\n"
     ]
    }
   ],
   "metadata": {}
  },
  {
   "cell_type": "code",
   "execution_count": 13,
   "source": [
    "!COLUMNS=60 pytest -v test_books.py"
   ],
   "outputs": [
    {
     "output_type": "stream",
     "name": "stdout",
     "text": [
      "\u001b[1m=================== test session starts ====================\u001b[0m\n",
      "platform linux -- Python 3.8.5, pytest-6.0.1, py-1.9.0, pluggy-0.13.1 -- /usr/bin/python3\n",
      "cachedir: .pytest_cache\n",
      "rootdir: /home/matt/projects/courses/software_engineering_best_practices\n",
      "plugins: attrib-0.1.3, requests-mock-1.8.0, cov-2.10.1\n",
      "collected 9 items                                          \u001b[0m\n",
      "\n",
      "test_books.py::test_word_counts[hat-33] \u001b[32mPASSED\u001b[0m\u001b[32m       [ 11%]\u001b[0m\n",
      "test_books.py::test_word_counts[freedom-71] \u001b[32mPASSED\u001b[0m\u001b[32m   [ 22%]\u001b[0m\n",
      "test_books.py::test_word_counts[electricity-1] \u001b[32mPASSED\u001b[0m\u001b[32m [ 33%]\u001b[0m\n",
      "test_books.py::test_word_counts[testing-3] \u001b[32mPASSED\u001b[0m\u001b[32m    [ 44%]\u001b[0m\n",
      "test_books.py::test_word_counts[Prince-1499] \u001b[32mPASSED\u001b[0m\u001b[32m  [ 55%]\u001b[0m\n",
      "test_books.py::test_word_counts[internet-0] \u001b[32mPASSED\u001b[0m\u001b[32m   [ 66%]\u001b[0m\n",
      "test_books.py::test_word_counts[Russia-71] \u001b[32mPASSED\u001b[0m\u001b[32m    [ 77%]\u001b[0m\n",
      "test_books.py::test_word_counts[Pierre-1260] \u001b[32mPASSED\u001b[0m\u001b[32m  [ 88%]\u001b[0m\n",
      "test_books.py::test_word_counts[None-566317] \u001b[32mPASSED\u001b[0m\u001b[32m  [100%]\u001b[0m\n",
      "\n",
      "\u001b[32m==================== \u001b[32m\u001b[1m9 passed\u001b[0m\u001b[32m in 3.06s\u001b[0m\u001b[32m =====================\u001b[0m\n"
     ]
    }
   ],
   "metadata": {}
  },
  {
   "cell_type": "markdown",
   "source": [
    "Now it only takes about as long as a single test did since the slow part is only being done once."
   ],
   "metadata": {}
  },
  {
   "cell_type": "markdown",
   "source": [
    "### Exercise\n",
    "\n",
    "Add some more parameters to the test and check that it doesn't take any longer to run"
   ],
   "metadata": {
    "tags": [
     "exercise"
    ]
   }
  }
 ],
 "metadata": {
  "celltoolbar": "Tags",
  "kernelspec": {
   "display_name": "Python 3",
   "language": "python",
   "name": "python3"
  },
  "language_info": {
   "codemirror_mode": {
    "name": "ipython",
    "version": 3
   },
   "file_extension": ".py",
   "mimetype": "text/x-python",
   "name": "python",
   "nbconvert_exporter": "python",
   "pygments_lexer": "ipython3",
   "version": "3.8.5"
  }
 },
 "nbformat": 4,
 "nbformat_minor": 4
}