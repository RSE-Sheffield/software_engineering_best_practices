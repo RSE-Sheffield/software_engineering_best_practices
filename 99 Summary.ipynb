{
 "cells": [
  {
   "cell_type": "markdown",
   "metadata": {},
   "source": [
    "# Summary\n",
    "\n",
    "Well done for getting this far!\n",
    "\n",
    "In this course we've covered some important elements of professional software development:\n",
    "\n",
    "- Documentation\n",
    "  - What should be documented\n",
    "  - How to make your documentation accessible as HTML\n",
    "- Testing\n",
    "  - How to test your code\n",
    "  - Why to test your code\n",
    "  - Parametrising your tests\n",
    "  - Checking for expected errors\n",
    "  - Providing test data in fixtures\n",
    "- Licensing\n",
    "\n",
    "I consider these three topics to be essential for software development along with version control through a tool such as Git.\n",
    "\n",
    "You don't need to have tested very single corner of your code and you don't need to have perfect docstrings for your functions but just having something is better than having nothing. These techniques are not about being *perfect* but simply about being *better*.\n",
    "\n",
    "Things to read up on or attend courses about next would likely be:\n",
    "\n",
    "- **Version control** using Git\n",
    "  - including collaborative development with a platform like GitHub or GitLab using Pull Requests\n",
    "- **Automated testing**, also referred to as *continuous integration* or *continuous testing*\n",
    "- **Code quality** check (such as pycodestyle, Pylint and MyPy in Python)\n",
    "- **Packaging** your for easy distribution (e.g. using PyPI for Python)\n",
    "\n",
    "For information on some of these topics, a good source is [The Hitchhiker's Guide to Python](https://docs.python-guide.org), particularly the section on [Writing Great Python Code](https://docs.python-guide.org/#writing-great-python-code)."
   ]
  }
 ],
 "metadata": {
  "kernelspec": {
   "display_name": "Python 3",
   "language": "python",
   "name": "python3"
  },
  "language_info": {
   "codemirror_mode": {
    "name": "ipython",
    "version": 3
   },
   "file_extension": ".py",
   "mimetype": "text/x-python",
   "name": "python",
   "nbconvert_exporter": "python",
   "pygments_lexer": "ipython3",
   "version": "3.7.3"
  }
 },
 "nbformat": 4,
 "nbformat_minor": 2
}
